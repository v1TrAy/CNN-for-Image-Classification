{
 "cells": [
  {
   "cell_type": "code",
   "execution_count": 67,
   "metadata": {},
   "outputs": [],
   "source": [
    "# File management\n",
    "import os \n",
    "\n",
    "# Image loading and preprocessing\n",
    "import keras.preprocessing as preprocess  \n",
    "\n",
    "# CNN architecture and components\n",
    "from keras.models import Sequential  \n",
    "from keras.layers import (\n",
    "    Conv2D,  \n",
    "    Activation, \n",
    "    MaxPooling2D, \n",
    "    AveragePooling2D,\n",
    "    Flatten,  \n",
    "    Dense,  # For fully connected layers\n",
    "    BatchNormalization,  \n",
    ")\n",
    "\n",
    "from keras.regularizers import l2\n",
    "from keras.optimizers import Adam  \n",
    "from keras.losses import CategoricalCrossentropy  \n",
    "\n",
    "# Data manipulation and analysis\n",
    "import pandas as pd  \n",
    "import numpy as np  \n",
    "\n",
    "# Keras utilities\n",
    "import keras.utils as kutils  # helper functions for model building and evaluation\n",
    "\n",
    "# Performance metrics\n",
    "import sklearn.metrics as scores  \n",
    "\n",
    "# Progress Bar\n",
    "from tqdm import tqdm\n",
    "from tensorflow.keras.callbacks import Callback\n",
    "\n",
    "# Visualization\n",
    "import plotly.graph_objects as go  \n",
    "import plotly.offline as pyo  "
   ]
  },
  {
   "cell_type": "code",
   "execution_count": 68,
   "metadata": {},
   "outputs": [],
   "source": [
    "hyper_parameters = {\n",
    "    \"batch-size\": 8,\n",
    "    \"number-of-epochs\": 100,\n",
    "    'initial-learning-rate': 0.001,\n",
    "    'l2-regularization': 0.001\n",
    "}"
   ]
  },
  {
   "cell_type": "code",
   "execution_count": 69,
   "metadata": {},
   "outputs": [
    {
     "data": {
      "text/plain": [
       "['./dataset/B01P00',\n",
       " './dataset/B02P00',\n",
       " './dataset/B03P00',\n",
       " './dataset/B04P00',\n",
       " './dataset/B05P00',\n",
       " './dataset/B06P00',\n",
       " './dataset/B07P00',\n",
       " './dataset/B08P00',\n",
       " './dataset/B09P00',\n",
       " './dataset/B10P00']"
      ]
     },
     "execution_count": 69,
     "metadata": {},
     "output_type": "execute_result"
    }
   ],
   "source": [
    "#Retrieve eligible dataset directories\n",
    "dataset_dirs = os.listdir(\"./dataset/\")\n",
    "eligible_dirs = [\"./dataset/\"+d for d in dataset_dirs]\n",
    "eligible_dirs"
   ]
  },
  {
   "cell_type": "code",
   "execution_count": 70,
   "metadata": {},
   "outputs": [
    {
     "data": {
      "text/plain": [
       "{'./dataset/B01P00': ['1.tif',\n",
       "  '10.tif',\n",
       "  '11.tif',\n",
       "  '12.tif',\n",
       "  '13.tif',\n",
       "  '14.tif',\n",
       "  '15.tif',\n",
       "  '16.tif',\n",
       "  '17.tif',\n",
       "  '18.tif',\n",
       "  '19.tif',\n",
       "  '2.tif',\n",
       "  '20.tif',\n",
       "  '21.tif',\n",
       "  '22.tif',\n",
       "  '23.tif',\n",
       "  '24.tif',\n",
       "  '25.tif',\n",
       "  '26.tif',\n",
       "  '27.tif',\n",
       "  '28.tif',\n",
       "  '29.tif',\n",
       "  '3.tif',\n",
       "  '30.tif',\n",
       "  '31.tif',\n",
       "  '32.tif',\n",
       "  '33.tif',\n",
       "  '34.tif',\n",
       "  '35.tif',\n",
       "  '36.tif',\n",
       "  '37.tif',\n",
       "  '38.tif',\n",
       "  '39.tif',\n",
       "  '4.tif',\n",
       "  '40.tif',\n",
       "  '41.tif',\n",
       "  '42.tif',\n",
       "  '43.tif',\n",
       "  '44.tif',\n",
       "  '45.tif',\n",
       "  '46.tif',\n",
       "  '47.tif',\n",
       "  '48.tif',\n",
       "  '49.tif',\n",
       "  '5.tif',\n",
       "  '50.tif',\n",
       "  '51.tif',\n",
       "  '52.tif',\n",
       "  '53.tif',\n",
       "  '54.tif',\n",
       "  '55.tif',\n",
       "  '56.tif',\n",
       "  '57.tif',\n",
       "  '58.tif',\n",
       "  '59.tif',\n",
       "  '6.tif',\n",
       "  '60.tif',\n",
       "  '61.tif',\n",
       "  '62.tif',\n",
       "  '63.tif',\n",
       "  '64.tif',\n",
       "  '65.tif',\n",
       "  '7.tif',\n",
       "  '8.tif',\n",
       "  '9.tif'],\n",
       " './dataset/B02P00': ['1.tif',\n",
       "  '10.tif',\n",
       "  '11.tif',\n",
       "  '12.tif',\n",
       "  '13.tif',\n",
       "  '14.tif',\n",
       "  '15.tif',\n",
       "  '16.tif',\n",
       "  '17.tif',\n",
       "  '18.tif',\n",
       "  '19.tif',\n",
       "  '2.tif',\n",
       "  '20.tif',\n",
       "  '21.tif',\n",
       "  '22.tif',\n",
       "  '23.tif',\n",
       "  '24.tif',\n",
       "  '25.tif',\n",
       "  '26.tif',\n",
       "  '27.tif',\n",
       "  '28.tif',\n",
       "  '29.tif',\n",
       "  '3.tif',\n",
       "  '30.tif',\n",
       "  '31.tif',\n",
       "  '32.tif',\n",
       "  '33.tif',\n",
       "  '34.tif',\n",
       "  '35.tif',\n",
       "  '36.tif',\n",
       "  '37.tif',\n",
       "  '38.tif',\n",
       "  '39.tif',\n",
       "  '4.tif',\n",
       "  '40.tif',\n",
       "  '41.tif',\n",
       "  '42.tif',\n",
       "  '43.tif',\n",
       "  '44.tif',\n",
       "  '45.tif',\n",
       "  '46.tif',\n",
       "  '47.tif',\n",
       "  '48.tif',\n",
       "  '49.tif',\n",
       "  '5.tif',\n",
       "  '50.tif',\n",
       "  '51.tif',\n",
       "  '52.tif',\n",
       "  '53.tif',\n",
       "  '54.tif',\n",
       "  '55.tif',\n",
       "  '56.tif',\n",
       "  '57.tif',\n",
       "  '58.tif',\n",
       "  '59.tif',\n",
       "  '6.tif',\n",
       "  '60.tif',\n",
       "  '61.tif',\n",
       "  '62.tif',\n",
       "  '63.tif',\n",
       "  '64.tif',\n",
       "  '65.tif',\n",
       "  '7.tif',\n",
       "  '8.tif',\n",
       "  '9.tif'],\n",
       " './dataset/B03P00': ['1.tif',\n",
       "  '10.tif',\n",
       "  '11.tif',\n",
       "  '12.tif',\n",
       "  '13.tif',\n",
       "  '14.tif',\n",
       "  '15.tif',\n",
       "  '16.tif',\n",
       "  '17.tif',\n",
       "  '18.tif',\n",
       "  '19.tif',\n",
       "  '2.tif',\n",
       "  '20.tif',\n",
       "  '21.tif',\n",
       "  '22.tif',\n",
       "  '23.tif',\n",
       "  '24.tif',\n",
       "  '25.tif',\n",
       "  '26.tif',\n",
       "  '27.tif',\n",
       "  '28.tif',\n",
       "  '29.tif',\n",
       "  '3.tif',\n",
       "  '30.tif',\n",
       "  '31.tif',\n",
       "  '32.tif',\n",
       "  '33.tif',\n",
       "  '34.tif',\n",
       "  '35.tif',\n",
       "  '36.tif',\n",
       "  '37.tif',\n",
       "  '38.tif',\n",
       "  '39.tif',\n",
       "  '4.tif',\n",
       "  '40.tif',\n",
       "  '41.tif',\n",
       "  '42.tif',\n",
       "  '43.tif',\n",
       "  '44.tif',\n",
       "  '45.tif',\n",
       "  '46.tif',\n",
       "  '47.tif',\n",
       "  '48.tif',\n",
       "  '49.tif',\n",
       "  '5.tif',\n",
       "  '50.tif',\n",
       "  '51.tif',\n",
       "  '52.tif',\n",
       "  '53.tif',\n",
       "  '54.tif',\n",
       "  '55.tif',\n",
       "  '56.tif',\n",
       "  '57.tif',\n",
       "  '58.tif',\n",
       "  '59.tif',\n",
       "  '6.tif',\n",
       "  '60.tif',\n",
       "  '61.tif',\n",
       "  '62.tif',\n",
       "  '63.tif',\n",
       "  '64.tif',\n",
       "  '65.tif',\n",
       "  '7.tif',\n",
       "  '8.tif',\n",
       "  '9.tif'],\n",
       " './dataset/B04P00': ['1.tif',\n",
       "  '10.tif',\n",
       "  '11.tif',\n",
       "  '12.tif',\n",
       "  '13.tif',\n",
       "  '14.tif',\n",
       "  '15.tif',\n",
       "  '16.tif',\n",
       "  '17.tif',\n",
       "  '18.tif',\n",
       "  '19.tif',\n",
       "  '2.tif',\n",
       "  '20.tif',\n",
       "  '21.tif',\n",
       "  '22.tif',\n",
       "  '23.tif',\n",
       "  '24.tif',\n",
       "  '25.tif',\n",
       "  '26.tif',\n",
       "  '27.tif',\n",
       "  '28.tif',\n",
       "  '29.tif',\n",
       "  '3.tif',\n",
       "  '30.tif',\n",
       "  '31.tif',\n",
       "  '32.tif',\n",
       "  '33.tif',\n",
       "  '34.tif',\n",
       "  '35.tif',\n",
       "  '36.tif',\n",
       "  '37.tif',\n",
       "  '38.tif',\n",
       "  '39.tif',\n",
       "  '4.tif',\n",
       "  '40.tif',\n",
       "  '41.tif',\n",
       "  '42.tif',\n",
       "  '43.tif',\n",
       "  '44.tif',\n",
       "  '45.tif',\n",
       "  '46.tif',\n",
       "  '47.tif',\n",
       "  '48.tif',\n",
       "  '49.tif',\n",
       "  '5.tif',\n",
       "  '50.tif',\n",
       "  '51.tif',\n",
       "  '52.tif',\n",
       "  '53.tif',\n",
       "  '54.tif',\n",
       "  '55.tif',\n",
       "  '56.tif',\n",
       "  '57.tif',\n",
       "  '58.tif',\n",
       "  '59.tif',\n",
       "  '6.tif',\n",
       "  '60.tif',\n",
       "  '61.tif',\n",
       "  '62.tif',\n",
       "  '63.tif',\n",
       "  '64.tif',\n",
       "  '65.tif',\n",
       "  '7.tif',\n",
       "  '8.tif',\n",
       "  '9.tif'],\n",
       " './dataset/B05P00': ['1.tif',\n",
       "  '10.tif',\n",
       "  '11.tif',\n",
       "  '12.tif',\n",
       "  '13.tif',\n",
       "  '14.tif',\n",
       "  '15.tif',\n",
       "  '16.tif',\n",
       "  '17.tif',\n",
       "  '18.tif',\n",
       "  '19.tif',\n",
       "  '2.tif',\n",
       "  '20.tif',\n",
       "  '21.tif',\n",
       "  '22.tif',\n",
       "  '23.tif',\n",
       "  '24.tif',\n",
       "  '25.tif',\n",
       "  '26.tif',\n",
       "  '27.tif',\n",
       "  '28.tif',\n",
       "  '29.tif',\n",
       "  '3.tif',\n",
       "  '30.tif',\n",
       "  '31.tif',\n",
       "  '32.tif',\n",
       "  '33.tif',\n",
       "  '34.tif',\n",
       "  '35.tif',\n",
       "  '36.tif',\n",
       "  '37.tif',\n",
       "  '38.tif',\n",
       "  '39.tif',\n",
       "  '4.tif',\n",
       "  '40.tif',\n",
       "  '41.tif',\n",
       "  '42.tif',\n",
       "  '43.tif',\n",
       "  '44.tif',\n",
       "  '45.tif',\n",
       "  '46.tif',\n",
       "  '47.tif',\n",
       "  '48.tif',\n",
       "  '49.tif',\n",
       "  '5.tif',\n",
       "  '50.tif',\n",
       "  '51.tif',\n",
       "  '52.tif',\n",
       "  '53.tif',\n",
       "  '54.tif',\n",
       "  '55.tif',\n",
       "  '56.tif',\n",
       "  '57.tif',\n",
       "  '58.tif',\n",
       "  '59.tif',\n",
       "  '6.tif',\n",
       "  '60.tif',\n",
       "  '61.tif',\n",
       "  '62.tif',\n",
       "  '63.tif',\n",
       "  '64.tif',\n",
       "  '65.tif',\n",
       "  '7.tif',\n",
       "  '8.tif',\n",
       "  '9.tif'],\n",
       " './dataset/B06P00': ['1.tif',\n",
       "  '10.tif',\n",
       "  '11.tif',\n",
       "  '12.tif',\n",
       "  '13.tif',\n",
       "  '14.tif',\n",
       "  '15.tif',\n",
       "  '16.tif',\n",
       "  '17.tif',\n",
       "  '18.tif',\n",
       "  '19.tif',\n",
       "  '2.tif',\n",
       "  '20.tif',\n",
       "  '21.tif',\n",
       "  '22.tif',\n",
       "  '23.tif',\n",
       "  '24.tif',\n",
       "  '25.tif',\n",
       "  '26.tif',\n",
       "  '27.tif',\n",
       "  '28.tif',\n",
       "  '29.tif',\n",
       "  '3.tif',\n",
       "  '30.tif',\n",
       "  '31.tif',\n",
       "  '32.tif',\n",
       "  '33.tif',\n",
       "  '34.tif',\n",
       "  '35.tif',\n",
       "  '36.tif',\n",
       "  '37.tif',\n",
       "  '38.tif',\n",
       "  '39.tif',\n",
       "  '4.tif',\n",
       "  '40.tif',\n",
       "  '41.tif',\n",
       "  '42.tif',\n",
       "  '43.tif',\n",
       "  '44.tif',\n",
       "  '45.tif',\n",
       "  '46.tif',\n",
       "  '47.tif',\n",
       "  '48.tif',\n",
       "  '49.tif',\n",
       "  '5.tif',\n",
       "  '50.tif',\n",
       "  '51.tif',\n",
       "  '52.tif',\n",
       "  '53.tif',\n",
       "  '54.tif',\n",
       "  '55.tif',\n",
       "  '56.tif',\n",
       "  '57.tif',\n",
       "  '58.tif',\n",
       "  '59.tif',\n",
       "  '6.tif',\n",
       "  '60.tif',\n",
       "  '61.tif',\n",
       "  '62.tif',\n",
       "  '63.tif',\n",
       "  '64.tif',\n",
       "  '65.tif',\n",
       "  '7.tif',\n",
       "  '8.tif',\n",
       "  '9.tif'],\n",
       " './dataset/B07P00': ['1.tif',\n",
       "  '10.tif',\n",
       "  '11.tif',\n",
       "  '12.tif',\n",
       "  '13.tif',\n",
       "  '14.tif',\n",
       "  '15.tif',\n",
       "  '16.tif',\n",
       "  '17.tif',\n",
       "  '18.tif',\n",
       "  '19.tif',\n",
       "  '2.tif',\n",
       "  '20.tif',\n",
       "  '21.tif',\n",
       "  '22.tif',\n",
       "  '23.tif',\n",
       "  '24.tif',\n",
       "  '25.tif',\n",
       "  '26.tif',\n",
       "  '27.tif',\n",
       "  '28.tif',\n",
       "  '29.tif',\n",
       "  '3.tif',\n",
       "  '30.tif',\n",
       "  '31.tif',\n",
       "  '32.tif',\n",
       "  '33.tif',\n",
       "  '34.tif',\n",
       "  '35.tif',\n",
       "  '36.tif',\n",
       "  '37.tif',\n",
       "  '38.tif',\n",
       "  '39.tif',\n",
       "  '4.tif',\n",
       "  '40.tif',\n",
       "  '41.tif',\n",
       "  '42.tif',\n",
       "  '43.tif',\n",
       "  '44.tif',\n",
       "  '45.tif',\n",
       "  '46.tif',\n",
       "  '47.tif',\n",
       "  '48.tif',\n",
       "  '49.tif',\n",
       "  '5.tif',\n",
       "  '50.tif',\n",
       "  '51.tif',\n",
       "  '52.tif',\n",
       "  '53.tif',\n",
       "  '54.tif',\n",
       "  '55.tif',\n",
       "  '56.tif',\n",
       "  '57.tif',\n",
       "  '58.tif',\n",
       "  '59.tif',\n",
       "  '6.tif',\n",
       "  '60.tif',\n",
       "  '61.tif',\n",
       "  '62.tif',\n",
       "  '63.tif',\n",
       "  '64.tif',\n",
       "  '65.tif',\n",
       "  '7.tif',\n",
       "  '8.tif',\n",
       "  '9.tif'],\n",
       " './dataset/B08P00': ['1.tif',\n",
       "  '10.tif',\n",
       "  '11.tif',\n",
       "  '12.tif',\n",
       "  '13.tif',\n",
       "  '14.tif',\n",
       "  '15.tif',\n",
       "  '16.tif',\n",
       "  '17.tif',\n",
       "  '18.tif',\n",
       "  '19.tif',\n",
       "  '2.tif',\n",
       "  '20.tif',\n",
       "  '21.tif',\n",
       "  '22.tif',\n",
       "  '23.tif',\n",
       "  '24.tif',\n",
       "  '25.tif',\n",
       "  '251.tif',\n",
       "  '26.tif',\n",
       "  '27.tif',\n",
       "  '28.tif',\n",
       "  '29.tif',\n",
       "  '3.tif',\n",
       "  '30.tif',\n",
       "  '31.tif',\n",
       "  '32.tif',\n",
       "  '33.tif',\n",
       "  '34.tif',\n",
       "  '35.tif',\n",
       "  '36.tif',\n",
       "  '37.tif',\n",
       "  '38.tif',\n",
       "  '39.tif',\n",
       "  '4.tif',\n",
       "  '40.tif',\n",
       "  '41.tif',\n",
       "  '42.tif',\n",
       "  '43.tif',\n",
       "  '44.tif',\n",
       "  '45.tif',\n",
       "  '46.tif',\n",
       "  '47.tif',\n",
       "  '48.tif',\n",
       "  '49.tif',\n",
       "  '5.tif',\n",
       "  '50.tif',\n",
       "  '51.tif',\n",
       "  '52.tif',\n",
       "  '53.tif',\n",
       "  '54.tif',\n",
       "  '55.tif',\n",
       "  '56.tif',\n",
       "  '57.tif',\n",
       "  '58.tif',\n",
       "  '59.tif',\n",
       "  '6.tif',\n",
       "  '60.tif',\n",
       "  '61.tif',\n",
       "  '62.tif',\n",
       "  '63.tif',\n",
       "  '64.tif',\n",
       "  '65.tif',\n",
       "  '7.tif',\n",
       "  '8.tif',\n",
       "  '9.tif'],\n",
       " './dataset/B09P00': ['1.tif',\n",
       "  '10.tif',\n",
       "  '11.tif',\n",
       "  '12.tif',\n",
       "  '13.tif',\n",
       "  '14.tif',\n",
       "  '15.tif',\n",
       "  '16.tif',\n",
       "  '17.tif',\n",
       "  '18.tif',\n",
       "  '19.tif',\n",
       "  '2.tif',\n",
       "  '20.tif',\n",
       "  '21.tif',\n",
       "  '22.tif',\n",
       "  '23.tif',\n",
       "  '24.tif',\n",
       "  '25.tif',\n",
       "  '26.tif',\n",
       "  '27.tif',\n",
       "  '28.tif',\n",
       "  '29.tif',\n",
       "  '3.tif',\n",
       "  '30.tif',\n",
       "  '31.tif',\n",
       "  '32.tif',\n",
       "  '33.tif',\n",
       "  '34.tif',\n",
       "  '35.tif',\n",
       "  '36.tif',\n",
       "  '37.tif',\n",
       "  '38.tif',\n",
       "  '39.tif',\n",
       "  '4.tif',\n",
       "  '40.tif',\n",
       "  '41.tif',\n",
       "  '42.tif',\n",
       "  '43.tif',\n",
       "  '44.tif',\n",
       "  '45.tif',\n",
       "  '46.tif',\n",
       "  '47.tif',\n",
       "  '48.tif',\n",
       "  '49.tif',\n",
       "  '5.tif',\n",
       "  '50.tif',\n",
       "  '51.tif',\n",
       "  '52.tif',\n",
       "  '53.tif',\n",
       "  '54.tif',\n",
       "  '55.tif',\n",
       "  '56.tif',\n",
       "  '57.tif',\n",
       "  '58.tif',\n",
       "  '59.tif',\n",
       "  '6.tif',\n",
       "  '60.tif',\n",
       "  '61.tif',\n",
       "  '62.tif',\n",
       "  '63.tif',\n",
       "  '64.tif',\n",
       "  '65.tif',\n",
       "  '7.tif',\n",
       "  '8.tif',\n",
       "  '9.tif'],\n",
       " './dataset/B10P00': ['1.tif',\n",
       "  '10.tif',\n",
       "  '11.tif',\n",
       "  '12.tif',\n",
       "  '13.tif',\n",
       "  '14.tif',\n",
       "  '15.tif',\n",
       "  '16.tif',\n",
       "  '17.tif',\n",
       "  '18.tif',\n",
       "  '19.tif',\n",
       "  '2.tif',\n",
       "  '20.tif',\n",
       "  '21.tif',\n",
       "  '22.tif',\n",
       "  '23.tif',\n",
       "  '24.tif',\n",
       "  '25.tif',\n",
       "  '26.tif',\n",
       "  '27.tif',\n",
       "  '28.tif',\n",
       "  '29.tif',\n",
       "  '3.tif',\n",
       "  '30.tif',\n",
       "  '31.tif',\n",
       "  '32.tif',\n",
       "  '33.tif',\n",
       "  '34.tif',\n",
       "  '35.tif',\n",
       "  '36.tif',\n",
       "  '37.tif',\n",
       "  '38.tif',\n",
       "  '39.tif',\n",
       "  '4.tif',\n",
       "  '40.tif',\n",
       "  '41.tif',\n",
       "  '42.tif',\n",
       "  '43.tif',\n",
       "  '44.tif',\n",
       "  '45.tif',\n",
       "  '46.tif',\n",
       "  '47.tif',\n",
       "  '48.tif',\n",
       "  '49.tif',\n",
       "  '5.tif',\n",
       "  '50.tif',\n",
       "  '51.tif',\n",
       "  '52.tif',\n",
       "  '53.tif',\n",
       "  '54.tif',\n",
       "  '55.tif',\n",
       "  '56.tif',\n",
       "  '57.tif',\n",
       "  '58.tif',\n",
       "  '59.tif',\n",
       "  '6.tif',\n",
       "  '60.tif',\n",
       "  '61.tif',\n",
       "  '62.tif',\n",
       "  '63.tif',\n",
       "  '64.tif',\n",
       "  '65.tif',\n",
       "  '7.tif',\n",
       "  '8.tif',\n",
       "  '9.tif']}"
      ]
     },
     "execution_count": 70,
     "metadata": {},
     "output_type": "execute_result"
    }
   ],
   "source": [
    "# Collect image filenames from eligible directories\n",
    "images = {}\n",
    "for directory in eligible_dirs:\n",
    "    images[directory] = next(os.walk(directory))[2]\n",
    "images"
   ]
  },
  {
   "cell_type": "code",
   "execution_count": 71,
   "metadata": {},
   "outputs": [],
   "source": [
    "subsets = [\n",
    "    [1,7,8,9,36,37], #* subset 1 \n",
    "    [2,5,10,11,12,13,15,39,40,41,42,44], #* subset 2 \n",
    "    [3,6,14,16,17,19,20,43,45,46,48,49], #* subset 3 \n",
    "    [18,21,22,23,24,25,26,47,50,51,52,53,54,55], #* subset 4 \n",
    "    [4,27,28,29,30,31,32,33,34,35,56,57,58,59,60,61,62,63,64], #* subset 5 \n",
    "]"
   ]
  },
  {
   "cell_type": "code",
   "execution_count": 72,
   "metadata": {},
   "outputs": [
    {
     "data": {
      "text/html": [
       "<div>\n",
       "<style scoped>\n",
       "    .dataframe tbody tr th:only-of-type {\n",
       "        vertical-align: middle;\n",
       "    }\n",
       "\n",
       "    .dataframe tbody tr th {\n",
       "        vertical-align: top;\n",
       "    }\n",
       "\n",
       "    .dataframe thead th {\n",
       "        text-align: right;\n",
       "    }\n",
       "</style>\n",
       "<table border=\"1\" class=\"dataframe\">\n",
       "  <thead>\n",
       "    <tr style=\"text-align: right;\">\n",
       "      <th></th>\n",
       "      <th>index</th>\n",
       "      <th>label</th>\n",
       "    </tr>\n",
       "  </thead>\n",
       "  <tbody>\n",
       "    <tr>\n",
       "      <th>0</th>\n",
       "      <td>1</td>\n",
       "      <td>0</td>\n",
       "    </tr>\n",
       "    <tr>\n",
       "      <th>6</th>\n",
       "      <td>2</td>\n",
       "      <td>1</td>\n",
       "    </tr>\n",
       "    <tr>\n",
       "      <th>18</th>\n",
       "      <td>3</td>\n",
       "      <td>2</td>\n",
       "    </tr>\n",
       "    <tr>\n",
       "      <th>44</th>\n",
       "      <td>4</td>\n",
       "      <td>4</td>\n",
       "    </tr>\n",
       "    <tr>\n",
       "      <th>7</th>\n",
       "      <td>5</td>\n",
       "      <td>1</td>\n",
       "    </tr>\n",
       "    <tr>\n",
       "      <th>...</th>\n",
       "      <td>...</td>\n",
       "      <td>...</td>\n",
       "    </tr>\n",
       "    <tr>\n",
       "      <th>58</th>\n",
       "      <td>60</td>\n",
       "      <td>4</td>\n",
       "    </tr>\n",
       "    <tr>\n",
       "      <th>59</th>\n",
       "      <td>61</td>\n",
       "      <td>4</td>\n",
       "    </tr>\n",
       "    <tr>\n",
       "      <th>60</th>\n",
       "      <td>62</td>\n",
       "      <td>4</td>\n",
       "    </tr>\n",
       "    <tr>\n",
       "      <th>61</th>\n",
       "      <td>63</td>\n",
       "      <td>4</td>\n",
       "    </tr>\n",
       "    <tr>\n",
       "      <th>62</th>\n",
       "      <td>64</td>\n",
       "      <td>4</td>\n",
       "    </tr>\n",
       "  </tbody>\n",
       "</table>\n",
       "<p>63 rows × 2 columns</p>\n",
       "</div>"
      ],
      "text/plain": [
       "    index  label\n",
       "0       1      0\n",
       "6       2      1\n",
       "18      3      2\n",
       "44      4      4\n",
       "7       5      1\n",
       "..    ...    ...\n",
       "58     60      4\n",
       "59     61      4\n",
       "60     62      4\n",
       "61     63      4\n",
       "62     64      4\n",
       "\n",
       "[63 rows x 2 columns]"
      ]
     },
     "execution_count": 72,
     "metadata": {},
     "output_type": "execute_result"
    }
   ],
   "source": [
    "# DataFrame from subsets and labels, and sort by index\n",
    "subset_dataframe = pd.DataFrame([(index, label) for label in range(len(subsets))\n",
    "                                    for index in subsets[label]], \n",
    "                                columns=['index', 'label'])\\\n",
    "                                .sort_values(by=\"index\")\n",
    "subset_dataframe "
   ]
  },
  {
   "cell_type": "code",
   "execution_count": 73,
   "metadata": {},
   "outputs": [
    {
     "data": {
      "text/html": [
       "<div>\n",
       "<style scoped>\n",
       "    .dataframe tbody tr th:only-of-type {\n",
       "        vertical-align: middle;\n",
       "    }\n",
       "\n",
       "    .dataframe tbody tr th {\n",
       "        vertical-align: top;\n",
       "    }\n",
       "\n",
       "    .dataframe thead th {\n",
       "        text-align: right;\n",
       "    }\n",
       "</style>\n",
       "<table border=\"1\" class=\"dataframe\">\n",
       "  <thead>\n",
       "    <tr style=\"text-align: right;\">\n",
       "      <th></th>\n",
       "      <th>index</th>\n",
       "      <th>person</th>\n",
       "      <th>filepath</th>\n",
       "    </tr>\n",
       "  </thead>\n",
       "  <tbody>\n",
       "    <tr>\n",
       "      <th>0</th>\n",
       "      <td>1</td>\n",
       "      <td>1</td>\n",
       "      <td>.\\dataset\\B01P00\\1.tif</td>\n",
       "    </tr>\n",
       "    <tr>\n",
       "      <th>1</th>\n",
       "      <td>2</td>\n",
       "      <td>1</td>\n",
       "      <td>.\\dataset\\B01P00\\10.tif</td>\n",
       "    </tr>\n",
       "    <tr>\n",
       "      <th>2</th>\n",
       "      <td>3</td>\n",
       "      <td>1</td>\n",
       "      <td>.\\dataset\\B01P00\\11.tif</td>\n",
       "    </tr>\n",
       "    <tr>\n",
       "      <th>3</th>\n",
       "      <td>4</td>\n",
       "      <td>1</td>\n",
       "      <td>.\\dataset\\B01P00\\12.tif</td>\n",
       "    </tr>\n",
       "    <tr>\n",
       "      <th>4</th>\n",
       "      <td>5</td>\n",
       "      <td>1</td>\n",
       "      <td>.\\dataset\\B01P00\\13.tif</td>\n",
       "    </tr>\n",
       "    <tr>\n",
       "      <th>...</th>\n",
       "      <td>...</td>\n",
       "      <td>...</td>\n",
       "      <td>...</td>\n",
       "    </tr>\n",
       "    <tr>\n",
       "      <th>646</th>\n",
       "      <td>61</td>\n",
       "      <td>10</td>\n",
       "      <td>.\\dataset\\B10P00\\64.tif</td>\n",
       "    </tr>\n",
       "    <tr>\n",
       "      <th>647</th>\n",
       "      <td>62</td>\n",
       "      <td>10</td>\n",
       "      <td>.\\dataset\\B10P00\\65.tif</td>\n",
       "    </tr>\n",
       "    <tr>\n",
       "      <th>648</th>\n",
       "      <td>63</td>\n",
       "      <td>10</td>\n",
       "      <td>.\\dataset\\B10P00\\7.tif</td>\n",
       "    </tr>\n",
       "    <tr>\n",
       "      <th>649</th>\n",
       "      <td>64</td>\n",
       "      <td>10</td>\n",
       "      <td>.\\dataset\\B10P00\\8.tif</td>\n",
       "    </tr>\n",
       "    <tr>\n",
       "      <th>650</th>\n",
       "      <td>65</td>\n",
       "      <td>10</td>\n",
       "      <td>.\\dataset\\B10P00\\9.tif</td>\n",
       "    </tr>\n",
       "  </tbody>\n",
       "</table>\n",
       "<p>651 rows × 3 columns</p>\n",
       "</div>"
      ],
      "text/plain": [
       "     index  person                 filepath\n",
       "0        1       1   .\\dataset\\B01P00\\1.tif\n",
       "1        2       1  .\\dataset\\B01P00\\10.tif\n",
       "2        3       1  .\\dataset\\B01P00\\11.tif\n",
       "3        4       1  .\\dataset\\B01P00\\12.tif\n",
       "4        5       1  .\\dataset\\B01P00\\13.tif\n",
       "..     ...     ...                      ...\n",
       "646     61      10  .\\dataset\\B10P00\\64.tif\n",
       "647     62      10  .\\dataset\\B10P00\\65.tif\n",
       "648     63      10   .\\dataset\\B10P00\\7.tif\n",
       "649     64      10   .\\dataset\\B10P00\\8.tif\n",
       "650     65      10   .\\dataset\\B10P00\\9.tif\n",
       "\n",
       "[651 rows x 3 columns]"
      ]
     },
     "execution_count": 73,
     "metadata": {},
     "output_type": "execute_result"
    }
   ],
   "source": [
    "# DataFrame of image information with person assignments\n",
    "data = []\n",
    "\n",
    "for i, [container, filelist] in enumerate(images.items()):\n",
    "   person_dir = container\n",
    "   for j, filename in enumerate(filelist):\n",
    "      data.append((j+1, i+1, os.path.join(*container.split(\"/\"), filename)))\n",
    "\n",
    "person_dataframe = pd.DataFrame(data, columns=['index', 'person', 'filepath'])\n",
    "\n",
    "person_dataframe"
   ]
  },
  {
   "cell_type": "code",
   "execution_count": 74,
   "metadata": {},
   "outputs": [
    {
     "data": {
      "text/html": [
       "<div>\n",
       "<style scoped>\n",
       "    .dataframe tbody tr th:only-of-type {\n",
       "        vertical-align: middle;\n",
       "    }\n",
       "\n",
       "    .dataframe tbody tr th {\n",
       "        vertical-align: top;\n",
       "    }\n",
       "\n",
       "    .dataframe thead th {\n",
       "        text-align: right;\n",
       "    }\n",
       "</style>\n",
       "<table border=\"1\" class=\"dataframe\">\n",
       "  <thead>\n",
       "    <tr style=\"text-align: right;\">\n",
       "      <th></th>\n",
       "      <th>index</th>\n",
       "      <th>person</th>\n",
       "      <th>filepath</th>\n",
       "      <th>label</th>\n",
       "    </tr>\n",
       "  </thead>\n",
       "  <tbody>\n",
       "    <tr>\n",
       "      <th>0</th>\n",
       "      <td>1</td>\n",
       "      <td>1</td>\n",
       "      <td>.\\dataset\\B01P00\\1.tif</td>\n",
       "      <td>0</td>\n",
       "    </tr>\n",
       "    <tr>\n",
       "      <th>1</th>\n",
       "      <td>1</td>\n",
       "      <td>2</td>\n",
       "      <td>.\\dataset\\B02P00\\1.tif</td>\n",
       "      <td>0</td>\n",
       "    </tr>\n",
       "    <tr>\n",
       "      <th>2</th>\n",
       "      <td>1</td>\n",
       "      <td>3</td>\n",
       "      <td>.\\dataset\\B03P00\\1.tif</td>\n",
       "      <td>0</td>\n",
       "    </tr>\n",
       "    <tr>\n",
       "      <th>3</th>\n",
       "      <td>1</td>\n",
       "      <td>4</td>\n",
       "      <td>.\\dataset\\B04P00\\1.tif</td>\n",
       "      <td>0</td>\n",
       "    </tr>\n",
       "    <tr>\n",
       "      <th>4</th>\n",
       "      <td>1</td>\n",
       "      <td>5</td>\n",
       "      <td>.\\dataset\\B05P00\\1.tif</td>\n",
       "      <td>0</td>\n",
       "    </tr>\n",
       "    <tr>\n",
       "      <th>...</th>\n",
       "      <td>...</td>\n",
       "      <td>...</td>\n",
       "      <td>...</td>\n",
       "      <td>...</td>\n",
       "    </tr>\n",
       "    <tr>\n",
       "      <th>625</th>\n",
       "      <td>64</td>\n",
       "      <td>6</td>\n",
       "      <td>.\\dataset\\B06P00\\8.tif</td>\n",
       "      <td>4</td>\n",
       "    </tr>\n",
       "    <tr>\n",
       "      <th>626</th>\n",
       "      <td>64</td>\n",
       "      <td>7</td>\n",
       "      <td>.\\dataset\\B07P00\\8.tif</td>\n",
       "      <td>4</td>\n",
       "    </tr>\n",
       "    <tr>\n",
       "      <th>627</th>\n",
       "      <td>64</td>\n",
       "      <td>8</td>\n",
       "      <td>.\\dataset\\B08P00\\7.tif</td>\n",
       "      <td>4</td>\n",
       "    </tr>\n",
       "    <tr>\n",
       "      <th>628</th>\n",
       "      <td>64</td>\n",
       "      <td>9</td>\n",
       "      <td>.\\dataset\\B09P00\\8.tif</td>\n",
       "      <td>4</td>\n",
       "    </tr>\n",
       "    <tr>\n",
       "      <th>629</th>\n",
       "      <td>64</td>\n",
       "      <td>10</td>\n",
       "      <td>.\\dataset\\B10P00\\8.tif</td>\n",
       "      <td>4</td>\n",
       "    </tr>\n",
       "  </tbody>\n",
       "</table>\n",
       "<p>630 rows × 4 columns</p>\n",
       "</div>"
      ],
      "text/plain": [
       "     index  person                filepath  label\n",
       "0        1       1  .\\dataset\\B01P00\\1.tif      0\n",
       "1        1       2  .\\dataset\\B02P00\\1.tif      0\n",
       "2        1       3  .\\dataset\\B03P00\\1.tif      0\n",
       "3        1       4  .\\dataset\\B04P00\\1.tif      0\n",
       "4        1       5  .\\dataset\\B05P00\\1.tif      0\n",
       "..     ...     ...                     ...    ...\n",
       "625     64       6  .\\dataset\\B06P00\\8.tif      4\n",
       "626     64       7  .\\dataset\\B07P00\\8.tif      4\n",
       "627     64       8  .\\dataset\\B08P00\\7.tif      4\n",
       "628     64       9  .\\dataset\\B09P00\\8.tif      4\n",
       "629     64      10  .\\dataset\\B10P00\\8.tif      4\n",
       "\n",
       "[630 rows x 4 columns]"
      ]
     },
     "execution_count": 74,
     "metadata": {},
     "output_type": "execute_result"
    }
   ],
   "source": [
    "# Merge two DataFrames based on index\n",
    "yalb_dataframe = pd.merge(person_dataframe, subset_dataframe, on=\"index\")\n",
    "yalb_dataframe  "
   ]
  },
  {
   "cell_type": "code",
   "execution_count": 75,
   "metadata": {},
   "outputs": [],
   "source": [
    "# Image Height and Width\n",
    "img_w  = 160\n",
    "img_h = 160"
   ]
  },
  {
   "cell_type": "code",
   "execution_count": 76,
   "metadata": {},
   "outputs": [],
   "source": [
    "# load and preprocess an image\n",
    "def load(path):\n",
    "    img = preprocess.image.load_img(path, \n",
    "                                    grayscale=False, \n",
    "                                    color_mode=\"rgb\", \n",
    "                                    target_size=(img_w, img_h))\n",
    "    img_array = preprocess.image.img_to_array(img)/255\n",
    "    return img_array"
   ]
  },
  {
   "cell_type": "code",
   "execution_count": 77,
   "metadata": {},
   "outputs": [],
   "source": [
    "# Convolutional block class\n",
    "class ConvBlock:\n",
    "    def __init__(self, filters, kernel_size, strides, padding, pool_size, pool_strides, regularizer, pooling_type=\"max\"):\n",
    "        self.filters = filters\n",
    "        self.kernel_size = kernel_size\n",
    "        self.strides = strides\n",
    "        self.padding = padding\n",
    "        self.pool_size = pool_size\n",
    "        self.pool_strides = pool_strides\n",
    "        self.regularizer = regularizer\n",
    "        self.pooling_type = pooling_type\n",
    "\n",
    "    def add_to_model(self, model):\n",
    "        model.add(Conv2D(self.filters, self.kernel_size, strides=self.strides, padding=self.padding, kernel_regularizer=l2(self.regularizer)))\n",
    "        model.add(BatchNormalization())\n",
    "        model.add(Activation('relu'))\n",
    "        # Pooling layer\n",
    "        if self.pool_size is not None:\n",
    "            if self.pooling_type == \"max\":\n",
    "                model.add(MaxPooling2D(pool_size=self.pool_size, strides=self.pool_strides))\n",
    "            elif self.pooling_type == \"avg\": \n",
    "                model.add(AveragePooling2D(pool_size=self.pool_size, strides=self.pool_strides))\n",
    "                \n",
    "# Custom model class\n",
    "class CustomModel:\n",
    "    def __init__(self, input_shape, l2_regularization, initial_learning_rate, num_classes):\n",
    "        self.model = Sequential()\n",
    "        self.l2_regularization = l2_regularization\n",
    "        self.initial_learning_rate = initial_learning_rate\n",
    "        self.num_classes = num_classes\n",
    "        self.input_shape = input_shape\n",
    "\n",
    "    def build(self):\n",
    "        # Add initial convolutional layer\n",
    "        self.model.add(Conv2D(16, (3, 3), strides=(1, 1), input_shape=self.input_shape, padding='valid', kernel_regularizer=l2(self.l2_regularization)))\n",
    "        # Convolutional blocks\n",
    "        conv_blocks = [\n",
    "            ConvBlock(16, (3, 3), (1, 1), 'valid', (4, 4), (4, 4), self.l2_regularization),\n",
    "            ConvBlock(32, (3, 3), (1, 1), 'valid', (2, 2), (2, 2), self.l2_regularization),\n",
    "            ConvBlock(64, (3, 3), (1, 1), 'valid', (2, 2), (2, 2), self.l2_regularization, pooling_type=\"avg\")\n",
    "        ]\n",
    "\n",
    "        for block in conv_blocks:\n",
    "            block.add_to_model(self.model)\n",
    "        # Flattening, dense layers, and output\n",
    "        self.model.add(Flatten())\n",
    "        self.model.add(Dense(256, kernel_regularizer=l2(self.l2_regularization)))\n",
    "        self.model.add(Activation('relu'))\n",
    "        self.model.add(Dense(self.num_classes, activation='softmax'))\n",
    "\n",
    "    \"\"\"Compiles the model with optimizer, loss, and metrics\"\"\"\n",
    "    def compile(self):\n",
    "        self.model.compile(optimizer=Adam(learning_rate=self.initial_learning_rate), loss='categorical_crossentropy', metrics=['accuracy'])\n"
   ]
  },
  {
   "cell_type": "code",
   "execution_count": 78,
   "metadata": {},
   "outputs": [],
   "source": [
    "# Build, and compile the custom model\n",
    "custom_model = CustomModel((img_w, img_h, 3), l2_regularization=hyper_parameters[\"l2-regularization\"], initial_learning_rate=hyper_parameters[\"initial-learning-rate\"], num_classes=2)\n",
    "custom_model.build()\n",
    "custom_model.compile()"
   ]
  },
  {
   "cell_type": "code",
   "execution_count": 79,
   "metadata": {},
   "outputs": [],
   "source": [
    "# Define the optimizer, loss function\n",
    "optimizer = Adam(hyper_parameters[\"initial-learning-rate\"])\n",
    "\n",
    "# Compile the model with the specified optimizer, loss function\n",
    "custom_model.model.compile(optimizer=optimizer, loss=CategoricalCrossentropy(), metrics=[\"accuracy\"])"
   ]
  },
  {
   "cell_type": "code",
   "execution_count": 80,
   "metadata": {},
   "outputs": [],
   "source": [
    "# Data augmentation using ImageDataGenerator\n",
    "datagen = preprocess.image.ImageDataGenerator(\n",
    "    rotation_range=20,       # Random rotation between 0 and 20 degrees\n",
    "    width_shift_range=0.2,   # Horizontal shift up to 20% of the width\n",
    "    height_shift_range=0.2,  # Vertical shift up to 20% of the height\n",
    "    shear_range=0.2,         # Shear transformations up to 20%\n",
    "    zoom_range=0.2,          # Zooming up to 20%\n",
    "    horizontal_flip=True,    # Horizontal flip\n",
    "    vertical_flip=True,      # Vertical flip (disabled)\n",
    "    )\n"
   ]
  },
  {
   "cell_type": "code",
   "execution_count": 81,
   "metadata": {},
   "outputs": [
    {
     "name": "stderr",
     "output_type": "stream",
     "text": [
      "C:\\Users\\V1TrAy\\AppData\\Local\\Temp\\ipykernel_23804\\1494029414.py:9: SettingWithCopyWarning:\n",
      "\n",
      "\n",
      "A value is trying to be set on a copy of a slice from a DataFrame.\n",
      "Try using .loc[row_indexer,col_indexer] = value instead\n",
      "\n",
      "See the caveats in the documentation: https://pandas.pydata.org/pandas-docs/stable/user_guide/indexing.html#returning-a-view-versus-a-copy\n",
      "\n"
     ]
    },
    {
     "data": {
      "text/html": [
       "<div>\n",
       "<style scoped>\n",
       "    .dataframe tbody tr th:only-of-type {\n",
       "        vertical-align: middle;\n",
       "    }\n",
       "\n",
       "    .dataframe tbody tr th {\n",
       "        vertical-align: top;\n",
       "    }\n",
       "\n",
       "    .dataframe thead th {\n",
       "        text-align: right;\n",
       "    }\n",
       "</style>\n",
       "<table border=\"1\" class=\"dataframe\">\n",
       "  <thead>\n",
       "    <tr style=\"text-align: right;\">\n",
       "      <th></th>\n",
       "      <th>index</th>\n",
       "      <th>person</th>\n",
       "      <th>filepath</th>\n",
       "      <th>label</th>\n",
       "      <th>class</th>\n",
       "    </tr>\n",
       "  </thead>\n",
       "  <tbody>\n",
       "    <tr>\n",
       "      <th>2</th>\n",
       "      <td>1</td>\n",
       "      <td>3</td>\n",
       "      <td>.\\dataset\\B03P00\\1.tif</td>\n",
       "      <td>0</td>\n",
       "      <td>0.0</td>\n",
       "    </tr>\n",
       "    <tr>\n",
       "      <th>4</th>\n",
       "      <td>1</td>\n",
       "      <td>5</td>\n",
       "      <td>.\\dataset\\B05P00\\1.tif</td>\n",
       "      <td>0</td>\n",
       "      <td>1.0</td>\n",
       "    </tr>\n",
       "    <tr>\n",
       "      <th>12</th>\n",
       "      <td>2</td>\n",
       "      <td>3</td>\n",
       "      <td>.\\dataset\\B03P00\\10.tif</td>\n",
       "      <td>1</td>\n",
       "      <td>0.0</td>\n",
       "    </tr>\n",
       "    <tr>\n",
       "      <th>14</th>\n",
       "      <td>2</td>\n",
       "      <td>5</td>\n",
       "      <td>.\\dataset\\B05P00\\10.tif</td>\n",
       "      <td>1</td>\n",
       "      <td>1.0</td>\n",
       "    </tr>\n",
       "    <tr>\n",
       "      <th>22</th>\n",
       "      <td>3</td>\n",
       "      <td>3</td>\n",
       "      <td>.\\dataset\\B03P00\\11.tif</td>\n",
       "      <td>2</td>\n",
       "      <td>0.0</td>\n",
       "    </tr>\n",
       "    <tr>\n",
       "      <th>...</th>\n",
       "      <td>...</td>\n",
       "      <td>...</td>\n",
       "      <td>...</td>\n",
       "      <td>...</td>\n",
       "      <td>...</td>\n",
       "    </tr>\n",
       "    <tr>\n",
       "      <th>604</th>\n",
       "      <td>62</td>\n",
       "      <td>5</td>\n",
       "      <td>.\\dataset\\B05P00\\65.tif</td>\n",
       "      <td>4</td>\n",
       "      <td>1.0</td>\n",
       "    </tr>\n",
       "    <tr>\n",
       "      <th>612</th>\n",
       "      <td>63</td>\n",
       "      <td>3</td>\n",
       "      <td>.\\dataset\\B03P00\\7.tif</td>\n",
       "      <td>4</td>\n",
       "      <td>0.0</td>\n",
       "    </tr>\n",
       "    <tr>\n",
       "      <th>614</th>\n",
       "      <td>63</td>\n",
       "      <td>5</td>\n",
       "      <td>.\\dataset\\B05P00\\7.tif</td>\n",
       "      <td>4</td>\n",
       "      <td>1.0</td>\n",
       "    </tr>\n",
       "    <tr>\n",
       "      <th>622</th>\n",
       "      <td>64</td>\n",
       "      <td>3</td>\n",
       "      <td>.\\dataset\\B03P00\\8.tif</td>\n",
       "      <td>4</td>\n",
       "      <td>0.0</td>\n",
       "    </tr>\n",
       "    <tr>\n",
       "      <th>624</th>\n",
       "      <td>64</td>\n",
       "      <td>5</td>\n",
       "      <td>.\\dataset\\B05P00\\8.tif</td>\n",
       "      <td>4</td>\n",
       "      <td>1.0</td>\n",
       "    </tr>\n",
       "  </tbody>\n",
       "</table>\n",
       "<p>126 rows × 5 columns</p>\n",
       "</div>"
      ],
      "text/plain": [
       "     index  person                 filepath  label  class\n",
       "2        1       3   .\\dataset\\B03P00\\1.tif      0    0.0\n",
       "4        1       5   .\\dataset\\B05P00\\1.tif      0    1.0\n",
       "12       2       3  .\\dataset\\B03P00\\10.tif      1    0.0\n",
       "14       2       5  .\\dataset\\B05P00\\10.tif      1    1.0\n",
       "22       3       3  .\\dataset\\B03P00\\11.tif      2    0.0\n",
       "..     ...     ...                      ...    ...    ...\n",
       "604     62       5  .\\dataset\\B05P00\\65.tif      4    1.0\n",
       "612     63       3   .\\dataset\\B03P00\\7.tif      4    0.0\n",
       "614     63       5   .\\dataset\\B05P00\\7.tif      4    1.0\n",
       "622     64       3   .\\dataset\\B03P00\\8.tif      4    0.0\n",
       "624     64       5   .\\dataset\\B05P00\\8.tif      4    1.0\n",
       "\n",
       "[126 rows x 5 columns]"
      ]
     },
     "execution_count": 81,
     "metadata": {},
     "output_type": "execute_result"
    }
   ],
   "source": [
    "# Sample two random cases\n",
    "random_selected_cases = yalb_dataframe['person'].sample(2).tolist()\n",
    "\n",
    "# Filter the DataFrame based on the selected cases\n",
    "data = yalb_dataframe[yalb_dataframe['person'].isin(random_selected_cases)]\n",
    "\n",
    "# Assign class labels\n",
    "for idx, person in enumerate(random_selected_cases):\n",
    "    data.loc[data['person'] == person, 'class'] = int(idx)\n",
    "\n",
    "data "
   ]
  },
  {
   "cell_type": "code",
   "execution_count": 82,
   "metadata": {},
   "outputs": [
    {
     "data": {
      "text/html": [
       "<div>\n",
       "<style scoped>\n",
       "    .dataframe tbody tr th:only-of-type {\n",
       "        vertical-align: middle;\n",
       "    }\n",
       "\n",
       "    .dataframe tbody tr th {\n",
       "        vertical-align: top;\n",
       "    }\n",
       "\n",
       "    .dataframe thead th {\n",
       "        text-align: right;\n",
       "    }\n",
       "</style>\n",
       "<table border=\"1\" class=\"dataframe\">\n",
       "  <thead>\n",
       "    <tr style=\"text-align: right;\">\n",
       "      <th></th>\n",
       "      <th>index</th>\n",
       "      <th>person</th>\n",
       "      <th>filepath</th>\n",
       "      <th>label</th>\n",
       "      <th>class</th>\n",
       "    </tr>\n",
       "  </thead>\n",
       "  <tbody>\n",
       "    <tr>\n",
       "      <th>22</th>\n",
       "      <td>3</td>\n",
       "      <td>3</td>\n",
       "      <td>.\\dataset\\B03P00\\11.tif</td>\n",
       "      <td>2</td>\n",
       "      <td>0.0</td>\n",
       "    </tr>\n",
       "    <tr>\n",
       "      <th>24</th>\n",
       "      <td>3</td>\n",
       "      <td>5</td>\n",
       "      <td>.\\dataset\\B05P00\\11.tif</td>\n",
       "      <td>2</td>\n",
       "      <td>1.0</td>\n",
       "    </tr>\n",
       "    <tr>\n",
       "      <th>52</th>\n",
       "      <td>6</td>\n",
       "      <td>3</td>\n",
       "      <td>.\\dataset\\B03P00\\14.tif</td>\n",
       "      <td>2</td>\n",
       "      <td>0.0</td>\n",
       "    </tr>\n",
       "    <tr>\n",
       "      <th>54</th>\n",
       "      <td>6</td>\n",
       "      <td>5</td>\n",
       "      <td>.\\dataset\\B05P00\\14.tif</td>\n",
       "      <td>2</td>\n",
       "      <td>1.0</td>\n",
       "    </tr>\n",
       "    <tr>\n",
       "      <th>132</th>\n",
       "      <td>14</td>\n",
       "      <td>3</td>\n",
       "      <td>.\\dataset\\B03P00\\21.tif</td>\n",
       "      <td>2</td>\n",
       "      <td>0.0</td>\n",
       "    </tr>\n",
       "    <tr>\n",
       "      <th>134</th>\n",
       "      <td>14</td>\n",
       "      <td>5</td>\n",
       "      <td>.\\dataset\\B05P00\\21.tif</td>\n",
       "      <td>2</td>\n",
       "      <td>1.0</td>\n",
       "    </tr>\n",
       "    <tr>\n",
       "      <th>152</th>\n",
       "      <td>16</td>\n",
       "      <td>3</td>\n",
       "      <td>.\\dataset\\B03P00\\23.tif</td>\n",
       "      <td>2</td>\n",
       "      <td>0.0</td>\n",
       "    </tr>\n",
       "    <tr>\n",
       "      <th>154</th>\n",
       "      <td>16</td>\n",
       "      <td>5</td>\n",
       "      <td>.\\dataset\\B05P00\\23.tif</td>\n",
       "      <td>2</td>\n",
       "      <td>1.0</td>\n",
       "    </tr>\n",
       "    <tr>\n",
       "      <th>162</th>\n",
       "      <td>17</td>\n",
       "      <td>3</td>\n",
       "      <td>.\\dataset\\B03P00\\24.tif</td>\n",
       "      <td>2</td>\n",
       "      <td>0.0</td>\n",
       "    </tr>\n",
       "    <tr>\n",
       "      <th>164</th>\n",
       "      <td>17</td>\n",
       "      <td>5</td>\n",
       "      <td>.\\dataset\\B05P00\\24.tif</td>\n",
       "      <td>2</td>\n",
       "      <td>1.0</td>\n",
       "    </tr>\n",
       "    <tr>\n",
       "      <th>182</th>\n",
       "      <td>19</td>\n",
       "      <td>3</td>\n",
       "      <td>.\\dataset\\B03P00\\26.tif</td>\n",
       "      <td>2</td>\n",
       "      <td>0.0</td>\n",
       "    </tr>\n",
       "    <tr>\n",
       "      <th>184</th>\n",
       "      <td>19</td>\n",
       "      <td>5</td>\n",
       "      <td>.\\dataset\\B05P00\\26.tif</td>\n",
       "      <td>2</td>\n",
       "      <td>1.0</td>\n",
       "    </tr>\n",
       "    <tr>\n",
       "      <th>192</th>\n",
       "      <td>20</td>\n",
       "      <td>3</td>\n",
       "      <td>.\\dataset\\B03P00\\27.tif</td>\n",
       "      <td>2</td>\n",
       "      <td>0.0</td>\n",
       "    </tr>\n",
       "    <tr>\n",
       "      <th>194</th>\n",
       "      <td>20</td>\n",
       "      <td>5</td>\n",
       "      <td>.\\dataset\\B05P00\\27.tif</td>\n",
       "      <td>2</td>\n",
       "      <td>1.0</td>\n",
       "    </tr>\n",
       "    <tr>\n",
       "      <th>412</th>\n",
       "      <td>43</td>\n",
       "      <td>3</td>\n",
       "      <td>.\\dataset\\B03P00\\48.tif</td>\n",
       "      <td>2</td>\n",
       "      <td>0.0</td>\n",
       "    </tr>\n",
       "    <tr>\n",
       "      <th>414</th>\n",
       "      <td>43</td>\n",
       "      <td>5</td>\n",
       "      <td>.\\dataset\\B05P00\\48.tif</td>\n",
       "      <td>2</td>\n",
       "      <td>1.0</td>\n",
       "    </tr>\n",
       "    <tr>\n",
       "      <th>432</th>\n",
       "      <td>45</td>\n",
       "      <td>3</td>\n",
       "      <td>.\\dataset\\B03P00\\5.tif</td>\n",
       "      <td>2</td>\n",
       "      <td>0.0</td>\n",
       "    </tr>\n",
       "    <tr>\n",
       "      <th>434</th>\n",
       "      <td>45</td>\n",
       "      <td>5</td>\n",
       "      <td>.\\dataset\\B05P00\\5.tif</td>\n",
       "      <td>2</td>\n",
       "      <td>1.0</td>\n",
       "    </tr>\n",
       "    <tr>\n",
       "      <th>442</th>\n",
       "      <td>46</td>\n",
       "      <td>3</td>\n",
       "      <td>.\\dataset\\B03P00\\50.tif</td>\n",
       "      <td>2</td>\n",
       "      <td>0.0</td>\n",
       "    </tr>\n",
       "    <tr>\n",
       "      <th>444</th>\n",
       "      <td>46</td>\n",
       "      <td>5</td>\n",
       "      <td>.\\dataset\\B05P00\\50.tif</td>\n",
       "      <td>2</td>\n",
       "      <td>1.0</td>\n",
       "    </tr>\n",
       "    <tr>\n",
       "      <th>462</th>\n",
       "      <td>48</td>\n",
       "      <td>3</td>\n",
       "      <td>.\\dataset\\B03P00\\52.tif</td>\n",
       "      <td>2</td>\n",
       "      <td>0.0</td>\n",
       "    </tr>\n",
       "    <tr>\n",
       "      <th>464</th>\n",
       "      <td>48</td>\n",
       "      <td>5</td>\n",
       "      <td>.\\dataset\\B05P00\\52.tif</td>\n",
       "      <td>2</td>\n",
       "      <td>1.0</td>\n",
       "    </tr>\n",
       "    <tr>\n",
       "      <th>472</th>\n",
       "      <td>49</td>\n",
       "      <td>3</td>\n",
       "      <td>.\\dataset\\B03P00\\53.tif</td>\n",
       "      <td>2</td>\n",
       "      <td>0.0</td>\n",
       "    </tr>\n",
       "    <tr>\n",
       "      <th>474</th>\n",
       "      <td>49</td>\n",
       "      <td>5</td>\n",
       "      <td>.\\dataset\\B05P00\\53.tif</td>\n",
       "      <td>2</td>\n",
       "      <td>1.0</td>\n",
       "    </tr>\n",
       "  </tbody>\n",
       "</table>\n",
       "</div>"
      ],
      "text/plain": [
       "     index  person                 filepath  label  class\n",
       "22       3       3  .\\dataset\\B03P00\\11.tif      2    0.0\n",
       "24       3       5  .\\dataset\\B05P00\\11.tif      2    1.0\n",
       "52       6       3  .\\dataset\\B03P00\\14.tif      2    0.0\n",
       "54       6       5  .\\dataset\\B05P00\\14.tif      2    1.0\n",
       "132     14       3  .\\dataset\\B03P00\\21.tif      2    0.0\n",
       "134     14       5  .\\dataset\\B05P00\\21.tif      2    1.0\n",
       "152     16       3  .\\dataset\\B03P00\\23.tif      2    0.0\n",
       "154     16       5  .\\dataset\\B05P00\\23.tif      2    1.0\n",
       "162     17       3  .\\dataset\\B03P00\\24.tif      2    0.0\n",
       "164     17       5  .\\dataset\\B05P00\\24.tif      2    1.0\n",
       "182     19       3  .\\dataset\\B03P00\\26.tif      2    0.0\n",
       "184     19       5  .\\dataset\\B05P00\\26.tif      2    1.0\n",
       "192     20       3  .\\dataset\\B03P00\\27.tif      2    0.0\n",
       "194     20       5  .\\dataset\\B05P00\\27.tif      2    1.0\n",
       "412     43       3  .\\dataset\\B03P00\\48.tif      2    0.0\n",
       "414     43       5  .\\dataset\\B05P00\\48.tif      2    1.0\n",
       "432     45       3   .\\dataset\\B03P00\\5.tif      2    0.0\n",
       "434     45       5   .\\dataset\\B05P00\\5.tif      2    1.0\n",
       "442     46       3  .\\dataset\\B03P00\\50.tif      2    0.0\n",
       "444     46       5  .\\dataset\\B05P00\\50.tif      2    1.0\n",
       "462     48       3  .\\dataset\\B03P00\\52.tif      2    0.0\n",
       "464     48       5  .\\dataset\\B05P00\\52.tif      2    1.0\n",
       "472     49       3  .\\dataset\\B03P00\\53.tif      2    0.0\n",
       "474     49       5  .\\dataset\\B05P00\\53.tif      2    1.0"
      ]
     },
     "execution_count": 82,
     "metadata": {},
     "output_type": "execute_result"
    }
   ],
   "source": [
    "#Split data into test and train sets based on label\n",
    "test = data[data['label'] == 2]\n",
    "train = data[data['label'] != 2]\n",
    "\n",
    "#Test Set\n",
    "test "
   ]
  },
  {
   "cell_type": "code",
   "execution_count": 83,
   "metadata": {},
   "outputs": [
    {
     "data": {
      "text/html": [
       "<div>\n",
       "<style scoped>\n",
       "    .dataframe tbody tr th:only-of-type {\n",
       "        vertical-align: middle;\n",
       "    }\n",
       "\n",
       "    .dataframe tbody tr th {\n",
       "        vertical-align: top;\n",
       "    }\n",
       "\n",
       "    .dataframe thead th {\n",
       "        text-align: right;\n",
       "    }\n",
       "</style>\n",
       "<table border=\"1\" class=\"dataframe\">\n",
       "  <thead>\n",
       "    <tr style=\"text-align: right;\">\n",
       "      <th></th>\n",
       "      <th>index</th>\n",
       "      <th>person</th>\n",
       "      <th>filepath</th>\n",
       "      <th>label</th>\n",
       "      <th>class</th>\n",
       "    </tr>\n",
       "  </thead>\n",
       "  <tbody>\n",
       "    <tr>\n",
       "      <th>2</th>\n",
       "      <td>1</td>\n",
       "      <td>3</td>\n",
       "      <td>.\\dataset\\B03P00\\1.tif</td>\n",
       "      <td>0</td>\n",
       "      <td>0.0</td>\n",
       "    </tr>\n",
       "    <tr>\n",
       "      <th>4</th>\n",
       "      <td>1</td>\n",
       "      <td>5</td>\n",
       "      <td>.\\dataset\\B05P00\\1.tif</td>\n",
       "      <td>0</td>\n",
       "      <td>1.0</td>\n",
       "    </tr>\n",
       "    <tr>\n",
       "      <th>12</th>\n",
       "      <td>2</td>\n",
       "      <td>3</td>\n",
       "      <td>.\\dataset\\B03P00\\10.tif</td>\n",
       "      <td>1</td>\n",
       "      <td>0.0</td>\n",
       "    </tr>\n",
       "    <tr>\n",
       "      <th>14</th>\n",
       "      <td>2</td>\n",
       "      <td>5</td>\n",
       "      <td>.\\dataset\\B05P00\\10.tif</td>\n",
       "      <td>1</td>\n",
       "      <td>1.0</td>\n",
       "    </tr>\n",
       "    <tr>\n",
       "      <th>32</th>\n",
       "      <td>4</td>\n",
       "      <td>3</td>\n",
       "      <td>.\\dataset\\B03P00\\12.tif</td>\n",
       "      <td>4</td>\n",
       "      <td>0.0</td>\n",
       "    </tr>\n",
       "    <tr>\n",
       "      <th>...</th>\n",
       "      <td>...</td>\n",
       "      <td>...</td>\n",
       "      <td>...</td>\n",
       "      <td>...</td>\n",
       "      <td>...</td>\n",
       "    </tr>\n",
       "    <tr>\n",
       "      <th>604</th>\n",
       "      <td>62</td>\n",
       "      <td>5</td>\n",
       "      <td>.\\dataset\\B05P00\\65.tif</td>\n",
       "      <td>4</td>\n",
       "      <td>1.0</td>\n",
       "    </tr>\n",
       "    <tr>\n",
       "      <th>612</th>\n",
       "      <td>63</td>\n",
       "      <td>3</td>\n",
       "      <td>.\\dataset\\B03P00\\7.tif</td>\n",
       "      <td>4</td>\n",
       "      <td>0.0</td>\n",
       "    </tr>\n",
       "    <tr>\n",
       "      <th>614</th>\n",
       "      <td>63</td>\n",
       "      <td>5</td>\n",
       "      <td>.\\dataset\\B05P00\\7.tif</td>\n",
       "      <td>4</td>\n",
       "      <td>1.0</td>\n",
       "    </tr>\n",
       "    <tr>\n",
       "      <th>622</th>\n",
       "      <td>64</td>\n",
       "      <td>3</td>\n",
       "      <td>.\\dataset\\B03P00\\8.tif</td>\n",
       "      <td>4</td>\n",
       "      <td>0.0</td>\n",
       "    </tr>\n",
       "    <tr>\n",
       "      <th>624</th>\n",
       "      <td>64</td>\n",
       "      <td>5</td>\n",
       "      <td>.\\dataset\\B05P00\\8.tif</td>\n",
       "      <td>4</td>\n",
       "      <td>1.0</td>\n",
       "    </tr>\n",
       "  </tbody>\n",
       "</table>\n",
       "<p>102 rows × 5 columns</p>\n",
       "</div>"
      ],
      "text/plain": [
       "     index  person                 filepath  label  class\n",
       "2        1       3   .\\dataset\\B03P00\\1.tif      0    0.0\n",
       "4        1       5   .\\dataset\\B05P00\\1.tif      0    1.0\n",
       "12       2       3  .\\dataset\\B03P00\\10.tif      1    0.0\n",
       "14       2       5  .\\dataset\\B05P00\\10.tif      1    1.0\n",
       "32       4       3  .\\dataset\\B03P00\\12.tif      4    0.0\n",
       "..     ...     ...                      ...    ...    ...\n",
       "604     62       5  .\\dataset\\B05P00\\65.tif      4    1.0\n",
       "612     63       3   .\\dataset\\B03P00\\7.tif      4    0.0\n",
       "614     63       5   .\\dataset\\B05P00\\7.tif      4    1.0\n",
       "622     64       3   .\\dataset\\B03P00\\8.tif      4    0.0\n",
       "624     64       5   .\\dataset\\B05P00\\8.tif      4    1.0\n",
       "\n",
       "[102 rows x 5 columns]"
      ]
     },
     "execution_count": 83,
     "metadata": {},
     "output_type": "execute_result"
    }
   ],
   "source": [
    "#Train Set\n",
    "train"
   ]
  },
  {
   "cell_type": "code",
   "execution_count": 84,
   "metadata": {},
   "outputs": [
    {
     "data": {
      "text/plain": [
       "(array(['.\\\\dataset\\\\B03P00\\\\11.tif', '.\\\\dataset\\\\B05P00\\\\11.tif',\n",
       "        '.\\\\dataset\\\\B03P00\\\\14.tif', '.\\\\dataset\\\\B05P00\\\\14.tif',\n",
       "        '.\\\\dataset\\\\B03P00\\\\21.tif', '.\\\\dataset\\\\B05P00\\\\21.tif',\n",
       "        '.\\\\dataset\\\\B03P00\\\\23.tif', '.\\\\dataset\\\\B05P00\\\\23.tif',\n",
       "        '.\\\\dataset\\\\B03P00\\\\24.tif', '.\\\\dataset\\\\B05P00\\\\24.tif',\n",
       "        '.\\\\dataset\\\\B03P00\\\\26.tif', '.\\\\dataset\\\\B05P00\\\\26.tif',\n",
       "        '.\\\\dataset\\\\B03P00\\\\27.tif', '.\\\\dataset\\\\B05P00\\\\27.tif',\n",
       "        '.\\\\dataset\\\\B03P00\\\\48.tif', '.\\\\dataset\\\\B05P00\\\\48.tif',\n",
       "        '.\\\\dataset\\\\B03P00\\\\5.tif', '.\\\\dataset\\\\B05P00\\\\5.tif',\n",
       "        '.\\\\dataset\\\\B03P00\\\\50.tif', '.\\\\dataset\\\\B05P00\\\\50.tif',\n",
       "        '.\\\\dataset\\\\B03P00\\\\52.tif', '.\\\\dataset\\\\B05P00\\\\52.tif',\n",
       "        '.\\\\dataset\\\\B03P00\\\\53.tif', '.\\\\dataset\\\\B05P00\\\\53.tif'],\n",
       "       dtype=object),\n",
       " array(['.\\\\dataset\\\\B03P00\\\\1.tif', '.\\\\dataset\\\\B05P00\\\\1.tif',\n",
       "        '.\\\\dataset\\\\B03P00\\\\10.tif', '.\\\\dataset\\\\B05P00\\\\10.tif',\n",
       "        '.\\\\dataset\\\\B03P00\\\\12.tif', '.\\\\dataset\\\\B05P00\\\\12.tif',\n",
       "        '.\\\\dataset\\\\B03P00\\\\13.tif', '.\\\\dataset\\\\B05P00\\\\13.tif',\n",
       "        '.\\\\dataset\\\\B03P00\\\\15.tif', '.\\\\dataset\\\\B05P00\\\\15.tif',\n",
       "        '.\\\\dataset\\\\B03P00\\\\16.tif', '.\\\\dataset\\\\B05P00\\\\16.tif',\n",
       "        '.\\\\dataset\\\\B03P00\\\\17.tif', '.\\\\dataset\\\\B05P00\\\\17.tif',\n",
       "        '.\\\\dataset\\\\B03P00\\\\18.tif', '.\\\\dataset\\\\B05P00\\\\18.tif',\n",
       "        '.\\\\dataset\\\\B03P00\\\\19.tif', '.\\\\dataset\\\\B05P00\\\\19.tif',\n",
       "        '.\\\\dataset\\\\B03P00\\\\2.tif', '.\\\\dataset\\\\B05P00\\\\2.tif',\n",
       "        '.\\\\dataset\\\\B03P00\\\\20.tif', '.\\\\dataset\\\\B05P00\\\\20.tif',\n",
       "        '.\\\\dataset\\\\B03P00\\\\22.tif', '.\\\\dataset\\\\B05P00\\\\22.tif',\n",
       "        '.\\\\dataset\\\\B03P00\\\\25.tif', '.\\\\dataset\\\\B05P00\\\\25.tif',\n",
       "        '.\\\\dataset\\\\B03P00\\\\28.tif', '.\\\\dataset\\\\B05P00\\\\28.tif',\n",
       "        '.\\\\dataset\\\\B03P00\\\\29.tif', '.\\\\dataset\\\\B05P00\\\\29.tif',\n",
       "        '.\\\\dataset\\\\B03P00\\\\3.tif', '.\\\\dataset\\\\B05P00\\\\3.tif',\n",
       "        '.\\\\dataset\\\\B03P00\\\\30.tif', '.\\\\dataset\\\\B05P00\\\\30.tif',\n",
       "        '.\\\\dataset\\\\B03P00\\\\31.tif', '.\\\\dataset\\\\B05P00\\\\31.tif',\n",
       "        '.\\\\dataset\\\\B03P00\\\\32.tif', '.\\\\dataset\\\\B05P00\\\\32.tif',\n",
       "        '.\\\\dataset\\\\B03P00\\\\33.tif', '.\\\\dataset\\\\B05P00\\\\33.tif',\n",
       "        '.\\\\dataset\\\\B03P00\\\\34.tif', '.\\\\dataset\\\\B05P00\\\\34.tif',\n",
       "        '.\\\\dataset\\\\B03P00\\\\35.tif', '.\\\\dataset\\\\B05P00\\\\35.tif',\n",
       "        '.\\\\dataset\\\\B03P00\\\\36.tif', '.\\\\dataset\\\\B05P00\\\\36.tif',\n",
       "        '.\\\\dataset\\\\B03P00\\\\37.tif', '.\\\\dataset\\\\B05P00\\\\37.tif',\n",
       "        '.\\\\dataset\\\\B03P00\\\\38.tif', '.\\\\dataset\\\\B05P00\\\\38.tif',\n",
       "        '.\\\\dataset\\\\B03P00\\\\39.tif', '.\\\\dataset\\\\B05P00\\\\39.tif',\n",
       "        '.\\\\dataset\\\\B03P00\\\\4.tif', '.\\\\dataset\\\\B05P00\\\\4.tif',\n",
       "        '.\\\\dataset\\\\B03P00\\\\40.tif', '.\\\\dataset\\\\B05P00\\\\40.tif',\n",
       "        '.\\\\dataset\\\\B03P00\\\\41.tif', '.\\\\dataset\\\\B05P00\\\\41.tif',\n",
       "        '.\\\\dataset\\\\B03P00\\\\42.tif', '.\\\\dataset\\\\B05P00\\\\42.tif',\n",
       "        '.\\\\dataset\\\\B03P00\\\\44.tif', '.\\\\dataset\\\\B05P00\\\\44.tif',\n",
       "        '.\\\\dataset\\\\B03P00\\\\45.tif', '.\\\\dataset\\\\B05P00\\\\45.tif',\n",
       "        '.\\\\dataset\\\\B03P00\\\\46.tif', '.\\\\dataset\\\\B05P00\\\\46.tif',\n",
       "        '.\\\\dataset\\\\B03P00\\\\47.tif', '.\\\\dataset\\\\B05P00\\\\47.tif',\n",
       "        '.\\\\dataset\\\\B03P00\\\\49.tif', '.\\\\dataset\\\\B05P00\\\\49.tif',\n",
       "        '.\\\\dataset\\\\B03P00\\\\51.tif', '.\\\\dataset\\\\B05P00\\\\51.tif',\n",
       "        '.\\\\dataset\\\\B03P00\\\\54.tif', '.\\\\dataset\\\\B05P00\\\\54.tif',\n",
       "        '.\\\\dataset\\\\B03P00\\\\55.tif', '.\\\\dataset\\\\B05P00\\\\55.tif',\n",
       "        '.\\\\dataset\\\\B03P00\\\\56.tif', '.\\\\dataset\\\\B05P00\\\\56.tif',\n",
       "        '.\\\\dataset\\\\B03P00\\\\57.tif', '.\\\\dataset\\\\B05P00\\\\57.tif',\n",
       "        '.\\\\dataset\\\\B03P00\\\\58.tif', '.\\\\dataset\\\\B05P00\\\\58.tif',\n",
       "        '.\\\\dataset\\\\B03P00\\\\59.tif', '.\\\\dataset\\\\B05P00\\\\59.tif',\n",
       "        '.\\\\dataset\\\\B03P00\\\\6.tif', '.\\\\dataset\\\\B05P00\\\\6.tif',\n",
       "        '.\\\\dataset\\\\B03P00\\\\60.tif', '.\\\\dataset\\\\B05P00\\\\60.tif',\n",
       "        '.\\\\dataset\\\\B03P00\\\\61.tif', '.\\\\dataset\\\\B05P00\\\\61.tif',\n",
       "        '.\\\\dataset\\\\B03P00\\\\62.tif', '.\\\\dataset\\\\B05P00\\\\62.tif',\n",
       "        '.\\\\dataset\\\\B03P00\\\\63.tif', '.\\\\dataset\\\\B05P00\\\\63.tif',\n",
       "        '.\\\\dataset\\\\B03P00\\\\64.tif', '.\\\\dataset\\\\B05P00\\\\64.tif',\n",
       "        '.\\\\dataset\\\\B03P00\\\\65.tif', '.\\\\dataset\\\\B05P00\\\\65.tif',\n",
       "        '.\\\\dataset\\\\B03P00\\\\7.tif', '.\\\\dataset\\\\B05P00\\\\7.tif',\n",
       "        '.\\\\dataset\\\\B03P00\\\\8.tif', '.\\\\dataset\\\\B05P00\\\\8.tif'],\n",
       "       dtype=object))"
      ]
     },
     "execution_count": 84,
     "metadata": {},
     "output_type": "execute_result"
    }
   ],
   "source": [
    "# Extract class labels and filepaths for training and testing\n",
    "train_class         = np.array(train['class'])\n",
    "test_class          = np.array(test['class'])\n",
    "\n",
    "train_data          = np.array(train['filepath'])\n",
    "test_data           = np.array(test['filepath'])\n",
    "\n",
    "test_data, train_data"
   ]
  },
  {
   "cell_type": "code",
   "execution_count": 85,
   "metadata": {},
   "outputs": [],
   "source": [
    "# Class for initializing and evaluating test/train data\n",
    "class TestTrainInitializer: \n",
    "    def __init__(self, _data, _classes, loader=load) -> None:\n",
    "        ch = map(lambda x: loader(x), _data)\n",
    "        self.X_data = np.array([*ch])\n",
    "        self.Y_data = kutils.to_categorical(_classes)\n",
    "\n",
    "    def run(self):\n",
    "        loss, accuracy = custom_model.model.evaluate(self.X_data, self.Y_data)\n",
    "        return loss, accuracy"
   ]
  },
  {
   "cell_type": "code",
   "execution_count": 86,
   "metadata": {},
   "outputs": [],
   "source": [
    "# Initialize TestTrainInitializer for training data\n",
    "train_init = TestTrainInitializer(_data=train_data, _classes=train_class)\n",
    "X_train, Y_train = train_init.X_data, train_init.Y_data "
   ]
  },
  {
   "cell_type": "code",
   "execution_count": 87,
   "metadata": {},
   "outputs": [],
   "source": [
    "# Extract data for analysis\n",
    "people = np.array(random_selected_cases)\n",
    "unique_labels_count = yalb_dataframe['label'].nunique()"
   ]
  },
  {
   "cell_type": "code",
   "execution_count": 88,
   "metadata": {},
   "outputs": [],
   "source": [
    "# Data generator for training\n",
    "train_generator = datagen.flow(X_train, \n",
    "                               Y_train, \n",
    "                               hyper_parameters[\"batch-size\"])"
   ]
  },
  {
   "cell_type": "code",
   "execution_count": 89,
   "metadata": {},
   "outputs": [
    {
     "name": "stderr",
     "output_type": "stream",
     "text": [
      "Training:   0%|          | 0/100 [00:00<?, ?it/s]"
     ]
    },
    {
     "name": "stdout",
     "output_type": "stream",
     "text": [
      "Epoch 1/100\n",
      "11/12 [==========================>...] - ETA: 0s - loss: 2.3146 - accuracy: 0.5698"
     ]
    },
    {
     "name": "stderr",
     "output_type": "stream",
     "text": [
      "Training:   1%|          | 1/100 [00:01<01:43,  1.04s/it]"
     ]
    },
    {
     "name": "stdout",
     "output_type": "stream",
     "text": [
      "\n",
      "New Best Accuracy: 0.5851\n",
      "New Worst Accuracy: 0.5851\n",
      "12/12 [==============================] - 1s 20ms/step - loss: 2.2214 - accuracy: 0.5851\n",
      "Epoch 2/100\n",
      "10/12 [========================>.....] - ETA: 0s - loss: 1.5505 - accuracy: 0.5385"
     ]
    },
    {
     "name": "stderr",
     "output_type": "stream",
     "text": [
      "Training:   2%|▏         | 2/100 [00:01<00:58,  1.69it/s]"
     ]
    },
    {
     "name": "stdout",
     "output_type": "stream",
     "text": [
      "New Worst Accuracy: 0.5532\n",
      "12/12 [==============================] - 0s 20ms/step - loss: 1.4857 - accuracy: 0.5532\n",
      "Epoch 3/100\n",
      "10/12 [========================>.....] - ETA: 0s - loss: 1.4150 - accuracy: 0.5128"
     ]
    },
    {
     "name": "stderr",
     "output_type": "stream",
     "text": [
      "Training:   3%|▎         | 3/100 [00:01<00:43,  2.24it/s]"
     ]
    },
    {
     "name": "stdout",
     "output_type": "stream",
     "text": [
      "New Worst Accuracy: 0.5213\n",
      "12/12 [==============================] - 0s 20ms/step - loss: 1.4129 - accuracy: 0.5213\n",
      "Epoch 4/100\n",
      "10/12 [========================>.....] - ETA: 0s - loss: 1.2083 - accuracy: 0.6154"
     ]
    },
    {
     "name": "stderr",
     "output_type": "stream",
     "text": [
      "Training:   4%|▍         | 4/100 [00:01<00:36,  2.64it/s]"
     ]
    },
    {
     "name": "stdout",
     "output_type": "stream",
     "text": [
      "\n",
      "New Best Accuracy: 0.6064\n",
      "\n",
      "12/12 [==============================] - 0s 20ms/step - loss: 1.2007 - accuracy: 0.6064\n",
      "Epoch 5/100\n",
      "10/12 [========================>.....] - ETA: 0s - loss: 1.1944 - accuracy: 0.6000"
     ]
    },
    {
     "name": "stderr",
     "output_type": "stream",
     "text": [
      "Training:   5%|▌         | 5/100 [00:02<00:32,  2.94it/s]"
     ]
    },
    {
     "name": "stdout",
     "output_type": "stream",
     "text": [
      "\n",
      "New Best Accuracy: 0.6354\n",
      "\n",
      "12/12 [==============================] - 0s 20ms/step - loss: 1.1528 - accuracy: 0.6354\n",
      "Epoch 6/100\n",
      "11/12 [==========================>...] - ETA: 0s - loss: 1.0613 - accuracy: 0.7209"
     ]
    },
    {
     "name": "stderr",
     "output_type": "stream",
     "text": [
      "Training:   6%|▌         | 6/100 [00:02<00:29,  3.18it/s]"
     ]
    },
    {
     "name": "stdout",
     "output_type": "stream",
     "text": [
      "\n",
      "New Best Accuracy: 0.7128\n",
      "\n",
      "12/12 [==============================] - 0s 19ms/step - loss: 1.0592 - accuracy: 0.7128\n",
      "Epoch 7/100\n",
      "11/12 [==========================>...] - ETA: 0s - loss: 0.9765 - accuracy: 0.7209"
     ]
    },
    {
     "name": "stderr",
     "output_type": "stream",
     "text": [
      "Training:   7%|▋         | 7/100 [00:02<00:27,  3.33it/s]"
     ]
    },
    {
     "name": "stdout",
     "output_type": "stream",
     "text": [
      "\n",
      "New Best Accuracy: 0.7447\n",
      "\n",
      "12/12 [==============================] - 0s 20ms/step - loss: 0.9601 - accuracy: 0.7447\n",
      "Epoch 8/100\n",
      "10/12 [========================>.....] - ETA: 0s - loss: 0.9482 - accuracy: 0.7436"
     ]
    },
    {
     "name": "stderr",
     "output_type": "stream",
     "text": [
      "Training:   8%|▊         | 8/100 [00:02<00:26,  3.41it/s]"
     ]
    },
    {
     "name": "stdout",
     "output_type": "stream",
     "text": [
      "\n",
      "12/12 [==============================] - 0s 21ms/step - loss: 0.9395 - accuracy: 0.7447\n",
      "Epoch 9/100\n",
      "10/12 [========================>.....] - ETA: 0s - loss: 0.9575 - accuracy: 0.7625"
     ]
    },
    {
     "name": "stderr",
     "output_type": "stream",
     "text": [
      "Training:   9%|▉         | 9/100 [00:03<00:26,  3.43it/s]"
     ]
    },
    {
     "name": "stdout",
     "output_type": "stream",
     "text": [
      "\n",
      "New Best Accuracy: 0.7812\n",
      "\n",
      "12/12 [==============================] - 0s 21ms/step - loss: 0.9288 - accuracy: 0.7812\n",
      "Epoch 10/100\n",
      "10/12 [========================>.....] - ETA: 0s - loss: 0.9383 - accuracy: 0.7308"
     ]
    },
    {
     "name": "stderr",
     "output_type": "stream",
     "text": [
      "Training:  10%|█         | 10/100 [00:03<00:26,  3.45it/s]"
     ]
    },
    {
     "name": "stdout",
     "output_type": "stream",
     "text": [
      "\n",
      "12/12 [==============================] - 0s 22ms/step - loss: 0.9147 - accuracy: 0.7447\n",
      "Epoch 11/100\n",
      "10/12 [========================>.....] - ETA: 0s - loss: 1.0316 - accuracy: 0.6625"
     ]
    },
    {
     "name": "stderr",
     "output_type": "stream",
     "text": [
      "Training:  11%|█         | 11/100 [00:03<00:25,  3.50it/s]"
     ]
    },
    {
     "name": "stdout",
     "output_type": "stream",
     "text": [
      "12/12 [==============================] - 0s 21ms/step - loss: 1.0951 - accuracy: 0.6277\n",
      "Epoch 12/100\n",
      "12/12 [==============================] - ETA: 0s - loss: 0.9366 - accuracy: 0.7021"
     ]
    },
    {
     "name": "stderr",
     "output_type": "stream",
     "text": [
      "Training:  12%|█▏        | 12/100 [00:04<00:25,  3.48it/s]"
     ]
    },
    {
     "name": "stdout",
     "output_type": "stream",
     "text": [
      "12/12 [==============================] - 0s 22ms/step - loss: 0.9366 - accuracy: 0.7021\n",
      "Epoch 13/100\n",
      "10/12 [========================>.....] - ETA: 0s - loss: 0.9290 - accuracy: 0.7051"
     ]
    },
    {
     "name": "stderr",
     "output_type": "stream",
     "text": [
      "Training:  13%|█▎        | 13/100 [00:04<00:25,  3.46it/s]"
     ]
    },
    {
     "name": "stdout",
     "output_type": "stream",
     "text": [
      "\n",
      "12/12 [==============================] - 0s 22ms/step - loss: 0.9017 - accuracy: 0.7128\n",
      "Epoch 14/100\n",
      "10/12 [========================>.....] - ETA: 0s - loss: 0.8919 - accuracy: 0.6923"
     ]
    },
    {
     "name": "stderr",
     "output_type": "stream",
     "text": [
      "Training:  14%|█▍        | 14/100 [00:04<00:25,  3.41it/s]"
     ]
    },
    {
     "name": "stdout",
     "output_type": "stream",
     "text": [
      "12/12 [==============================] - 0s 23ms/step - loss: 0.9244 - accuracy: 0.6809\n",
      "Epoch 15/100\n",
      "10/12 [========================>.....] - ETA: 0s - loss: 0.9045 - accuracy: 0.7250"
     ]
    },
    {
     "name": "stderr",
     "output_type": "stream",
     "text": [
      "Training:  15%|█▌        | 15/100 [00:04<00:24,  3.48it/s]"
     ]
    },
    {
     "name": "stdout",
     "output_type": "stream",
     "text": [
      "\n",
      "12/12 [==============================] - 0s 20ms/step - loss: 0.8730 - accuracy: 0.7447\n",
      "Epoch 16/100\n",
      "10/12 [========================>.....] - ETA: 0s - loss: 0.6978 - accuracy: 0.8250"
     ]
    },
    {
     "name": "stderr",
     "output_type": "stream",
     "text": [
      "Training:  16%|█▌        | 16/100 [00:05<00:23,  3.53it/s]"
     ]
    },
    {
     "name": "stdout",
     "output_type": "stream",
     "text": [
      "\n",
      "New Best Accuracy: 0.8085\n",
      "\n",
      "12/12 [==============================] - 0s 20ms/step - loss: 0.7222 - accuracy: 0.8085\n",
      "Epoch 17/100\n",
      "10/12 [========================>.....] - ETA: 0s - loss: 0.7213 - accuracy: 0.8250"
     ]
    },
    {
     "name": "stderr",
     "output_type": "stream",
     "text": [
      "Training:  17%|█▋        | 17/100 [00:05<00:23,  3.49it/s]"
     ]
    },
    {
     "name": "stdout",
     "output_type": "stream",
     "text": [
      "12/12 [==============================] - 0s 22ms/step - loss: 0.7309 - accuracy: 0.8021\n",
      "Epoch 18/100\n",
      "10/12 [========================>.....] - ETA: 0s - loss: 0.7592 - accuracy: 0.7625"
     ]
    },
    {
     "name": "stderr",
     "output_type": "stream",
     "text": [
      "Training:  18%|█▊        | 18/100 [00:05<00:23,  3.53it/s]"
     ]
    },
    {
     "name": "stdout",
     "output_type": "stream",
     "text": [
      "12/12 [==============================] - 0s 21ms/step - loss: 0.7522 - accuracy: 0.7708\n",
      "Epoch 19/100\n",
      "10/12 [========================>.....] - ETA: 0s - loss: 0.6999 - accuracy: 0.7949"
     ]
    },
    {
     "name": "stderr",
     "output_type": "stream",
     "text": [
      "Training:  19%|█▉        | 19/100 [00:06<00:22,  3.58it/s]"
     ]
    },
    {
     "name": "stdout",
     "output_type": "stream",
     "text": [
      "\n",
      "New Best Accuracy: 0.8191\n",
      "\n",
      "12/12 [==============================] - 0s 20ms/step - loss: 0.6743 - accuracy: 0.8191\n",
      "Epoch 20/100\n",
      "10/12 [========================>.....] - ETA: 0s - loss: 0.6199 - accuracy: 0.8462"
     ]
    },
    {
     "name": "stderr",
     "output_type": "stream",
     "text": [
      "Training:  20%|██        | 20/100 [00:06<00:22,  3.59it/s]"
     ]
    },
    {
     "name": "stdout",
     "output_type": "stream",
     "text": [
      "\n",
      "New Best Accuracy: 0.8298\n",
      "\n",
      "12/12 [==============================] - 0s 20ms/step - loss: 0.6358 - accuracy: 0.8298\n",
      "Epoch 21/100\n",
      "11/12 [==========================>...] - ETA: 0s - loss: 0.7077 - accuracy: 0.7791"
     ]
    },
    {
     "name": "stderr",
     "output_type": "stream",
     "text": [
      "Training:  21%|██        | 21/100 [00:06<00:21,  3.63it/s]"
     ]
    },
    {
     "name": "stdout",
     "output_type": "stream",
     "text": [
      "12/12 [==============================] - 0s 20ms/step - loss: 0.7000 - accuracy: 0.7766\n",
      "Epoch 22/100\n",
      "10/12 [========================>.....] - ETA: 0s - loss: 0.6102 - accuracy: 0.8500"
     ]
    },
    {
     "name": "stderr",
     "output_type": "stream",
     "text": [
      "Training:  22%|██▏       | 22/100 [00:06<00:21,  3.63it/s]"
     ]
    },
    {
     "name": "stdout",
     "output_type": "stream",
     "text": [
      "\n",
      "New Best Accuracy: 0.8511\n",
      "\n",
      "12/12 [==============================] - 0s 20ms/step - loss: 0.6028 - accuracy: 0.8511\n",
      "Epoch 23/100\n",
      "11/12 [==========================>...] - ETA: 0s - loss: 0.6353 - accuracy: 0.8605"
     ]
    },
    {
     "name": "stderr",
     "output_type": "stream",
     "text": [
      "Training:  23%|██▎       | 23/100 [00:07<00:21,  3.65it/s]"
     ]
    },
    {
     "name": "stdout",
     "output_type": "stream",
     "text": [
      "12/12 [==============================] - 0s 20ms/step - loss: 0.6822 - accuracy: 0.8511\n",
      "Epoch 24/100\n",
      "10/12 [========================>.....] - ETA: 0s - loss: 0.5925 - accuracy: 0.8590"
     ]
    },
    {
     "name": "stderr",
     "output_type": "stream",
     "text": [
      "Training:  24%|██▍       | 24/100 [00:07<00:21,  3.58it/s]"
     ]
    },
    {
     "name": "stdout",
     "output_type": "stream",
     "text": [
      "\n",
      "New Best Accuracy: 0.8723\n",
      "\n",
      "12/12 [==============================] - 0s 21ms/step - loss: 0.5782 - accuracy: 0.8723\n",
      "Epoch 25/100\n",
      "10/12 [========================>.....] - ETA: 0s - loss: 0.5874 - accuracy: 0.8462"
     ]
    },
    {
     "name": "stderr",
     "output_type": "stream",
     "text": [
      "Training:  25%|██▌       | 25/100 [00:07<00:21,  3.55it/s]"
     ]
    },
    {
     "name": "stdout",
     "output_type": "stream",
     "text": [
      "12/12 [==============================] - 0s 22ms/step - loss: 0.6000 - accuracy: 0.8617\n",
      "Epoch 26/100\n",
      "10/12 [========================>.....] - ETA: 0s - loss: 0.5864 - accuracy: 0.8625"
     ]
    },
    {
     "name": "stderr",
     "output_type": "stream",
     "text": [
      "Training:  26%|██▌       | 26/100 [00:08<00:20,  3.56it/s]"
     ]
    },
    {
     "name": "stdout",
     "output_type": "stream",
     "text": [
      "12/12 [==============================] - 0s 20ms/step - loss: 0.6152 - accuracy: 0.8511\n",
      "Epoch 27/100\n",
      "10/12 [========================>.....] - ETA: 0s - loss: 0.5775 - accuracy: 0.8718"
     ]
    },
    {
     "name": "stderr",
     "output_type": "stream",
     "text": [
      "Training:  27%|██▋       | 27/100 [00:08<00:20,  3.49it/s]"
     ]
    },
    {
     "name": "stdout",
     "output_type": "stream",
     "text": [
      "\n",
      "12/12 [==============================] - 0s 23ms/step - loss: 0.5651 - accuracy: 0.8723\n",
      "Epoch 28/100\n",
      "10/12 [========================>.....] - ETA: 0s - loss: 0.5709 - accuracy: 0.8462"
     ]
    },
    {
     "name": "stderr",
     "output_type": "stream",
     "text": [
      "Training:  28%|██▊       | 28/100 [00:08<00:20,  3.50it/s]"
     ]
    },
    {
     "name": "stdout",
     "output_type": "stream",
     "text": [
      "12/12 [==============================] - 0s 21ms/step - loss: 0.5683 - accuracy: 0.8511\n",
      "Epoch 29/100\n",
      "10/12 [========================>.....] - ETA: 0s - loss: 0.5180 - accuracy: 0.8718"
     ]
    },
    {
     "name": "stderr",
     "output_type": "stream",
     "text": [
      "Training:  29%|██▉       | 29/100 [00:08<00:20,  3.51it/s]"
     ]
    },
    {
     "name": "stdout",
     "output_type": "stream",
     "text": [
      "\n",
      "12/12 [==============================] - 0s 21ms/step - loss: 0.5183 - accuracy: 0.8723\n",
      "Epoch 30/100\n",
      "10/12 [========================>.....] - ETA: 0s - loss: 0.6141 - accuracy: 0.8205"
     ]
    },
    {
     "name": "stderr",
     "output_type": "stream",
     "text": [
      "Training:  30%|███       | 30/100 [00:09<00:19,  3.58it/s]"
     ]
    },
    {
     "name": "stdout",
     "output_type": "stream",
     "text": [
      "12/12 [==============================] - 0s 20ms/step - loss: 0.5883 - accuracy: 0.8298\n",
      "Epoch 31/100\n",
      "10/12 [========================>.....] - ETA: 0s - loss: 0.4077 - accuracy: 0.9487"
     ]
    },
    {
     "name": "stderr",
     "output_type": "stream",
     "text": [
      "Training:  31%|███       | 31/100 [00:09<00:19,  3.57it/s]"
     ]
    },
    {
     "name": "stdout",
     "output_type": "stream",
     "text": [
      "\n",
      "New Best Accuracy: 0.9255\n",
      "\n",
      "12/12 [==============================] - 0s 21ms/step - loss: 0.4305 - accuracy: 0.9255\n",
      "Epoch 32/100\n",
      "10/12 [========================>.....] - ETA: 0s - loss: 0.5943 - accuracy: 0.8590"
     ]
    },
    {
     "name": "stderr",
     "output_type": "stream",
     "text": [
      "Training:  32%|███▏      | 32/100 [00:09<00:18,  3.58it/s]"
     ]
    },
    {
     "name": "stdout",
     "output_type": "stream",
     "text": [
      "12/12 [==============================] - 0s 20ms/step - loss: 0.5861 - accuracy: 0.8511\n",
      "Epoch 33/100\n",
      "10/12 [========================>.....] - ETA: 0s - loss: 0.5851 - accuracy: 0.8718"
     ]
    },
    {
     "name": "stderr",
     "output_type": "stream",
     "text": [
      "Training:  33%|███▎      | 33/100 [00:09<00:18,  3.61it/s]"
     ]
    },
    {
     "name": "stdout",
     "output_type": "stream",
     "text": [
      "12/12 [==============================] - 0s 20ms/step - loss: 0.5643 - accuracy: 0.8723\n",
      "Epoch 34/100\n",
      "10/12 [========================>.....] - ETA: 0s - loss: 0.5939 - accuracy: 0.8590"
     ]
    },
    {
     "name": "stderr",
     "output_type": "stream",
     "text": [
      "Training:  34%|███▍      | 34/100 [00:10<00:18,  3.57it/s]"
     ]
    },
    {
     "name": "stdout",
     "output_type": "stream",
     "text": [
      "12/12 [==============================] - 0s 21ms/step - loss: 0.5808 - accuracy: 0.8617\n",
      "Epoch 35/100\n",
      "11/12 [==========================>...] - ETA: 0s - loss: 0.7107 - accuracy: 0.7209"
     ]
    },
    {
     "name": "stderr",
     "output_type": "stream",
     "text": [
      "Training:  35%|███▌      | 35/100 [00:10<00:17,  3.61it/s]"
     ]
    },
    {
     "name": "stdout",
     "output_type": "stream",
     "text": [
      "12/12 [==============================] - 0s 20ms/step - loss: 0.6810 - accuracy: 0.7447\n",
      "Epoch 36/100\n",
      "10/12 [========================>.....] - ETA: 0s - loss: 0.8491 - accuracy: 0.7564"
     ]
    },
    {
     "name": "stderr",
     "output_type": "stream",
     "text": [
      "Training:  36%|███▌      | 36/100 [00:10<00:17,  3.64it/s]"
     ]
    },
    {
     "name": "stdout",
     "output_type": "stream",
     "text": [
      "12/12 [==============================] - 0s 20ms/step - loss: 0.8568 - accuracy: 0.7447\n",
      "Epoch 37/100\n",
      "10/12 [========================>.....] - ETA: 0s - loss: 0.6352 - accuracy: 0.7949"
     ]
    },
    {
     "name": "stderr",
     "output_type": "stream",
     "text": [
      "Training:  37%|███▋      | 37/100 [00:11<00:17,  3.65it/s]"
     ]
    },
    {
     "name": "stdout",
     "output_type": "stream",
     "text": [
      "12/12 [==============================] - 0s 20ms/step - loss: 0.6307 - accuracy: 0.8191\n",
      "Epoch 38/100\n",
      "11/12 [==========================>...] - ETA: 0s - loss: 0.5771 - accuracy: 0.8953"
     ]
    },
    {
     "name": "stderr",
     "output_type": "stream",
     "text": [
      "Training:  38%|███▊      | 38/100 [00:11<00:16,  3.68it/s]"
     ]
    },
    {
     "name": "stdout",
     "output_type": "stream",
     "text": [
      "12/12 [==============================] - 0s 19ms/step - loss: 0.5719 - accuracy: 0.8936\n",
      "Epoch 39/100\n",
      "10/12 [========================>.....] - ETA: 0s - loss: 0.4627 - accuracy: 0.9000"
     ]
    },
    {
     "name": "stderr",
     "output_type": "stream",
     "text": [
      "Training:  39%|███▉      | 39/100 [00:11<00:16,  3.65it/s]"
     ]
    },
    {
     "name": "stdout",
     "output_type": "stream",
     "text": [
      "12/12 [==============================] - 0s 21ms/step - loss: 0.4502 - accuracy: 0.9062\n",
      "Epoch 40/100\n",
      "10/12 [========================>.....] - ETA: 0s - loss: 0.5392 - accuracy: 0.8333"
     ]
    },
    {
     "name": "stderr",
     "output_type": "stream",
     "text": [
      "Training:  40%|████      | 40/100 [00:11<00:16,  3.66it/s]"
     ]
    },
    {
     "name": "stdout",
     "output_type": "stream",
     "text": [
      "12/12 [==============================] - 0s 20ms/step - loss: 0.5336 - accuracy: 0.8511\n",
      "Epoch 41/100\n",
      "10/12 [========================>.....] - ETA: 0s - loss: 0.5093 - accuracy: 0.8625"
     ]
    },
    {
     "name": "stderr",
     "output_type": "stream",
     "text": [
      "Training:  41%|████      | 41/100 [00:12<00:15,  3.70it/s]"
     ]
    },
    {
     "name": "stdout",
     "output_type": "stream",
     "text": [
      "12/12 [==============================] - 0s 19ms/step - loss: 0.5423 - accuracy: 0.8298\n",
      "Epoch 42/100\n",
      "10/12 [========================>.....] - ETA: 0s - loss: 0.7792 - accuracy: 0.7564"
     ]
    },
    {
     "name": "stderr",
     "output_type": "stream",
     "text": [
      "Training:  42%|████▏     | 42/100 [00:12<00:15,  3.68it/s]"
     ]
    },
    {
     "name": "stdout",
     "output_type": "stream",
     "text": [
      "12/12 [==============================] - 0s 20ms/step - loss: 0.7426 - accuracy: 0.7660\n",
      "Epoch 43/100\n",
      "10/12 [========================>.....] - ETA: 0s - loss: 0.5952 - accuracy: 0.8077"
     ]
    },
    {
     "name": "stderr",
     "output_type": "stream",
     "text": [
      "Training:  43%|████▎     | 43/100 [00:12<00:15,  3.69it/s]"
     ]
    },
    {
     "name": "stdout",
     "output_type": "stream",
     "text": [
      "12/12 [==============================] - 0s 20ms/step - loss: 0.5653 - accuracy: 0.8298\n",
      "Epoch 44/100\n",
      "10/12 [========================>.....] - ETA: 0s - loss: 0.5207 - accuracy: 0.8846"
     ]
    },
    {
     "name": "stderr",
     "output_type": "stream",
     "text": [
      "Training:  44%|████▍     | 44/100 [00:12<00:15,  3.72it/s]"
     ]
    },
    {
     "name": "stdout",
     "output_type": "stream",
     "text": [
      "12/12 [==============================] - 0s 19ms/step - loss: 0.5236 - accuracy: 0.8723\n",
      "Epoch 45/100\n",
      "10/12 [========================>.....] - ETA: 0s - loss: 0.5225 - accuracy: 0.8590"
     ]
    },
    {
     "name": "stderr",
     "output_type": "stream",
     "text": [
      "Training:  45%|████▌     | 45/100 [00:13<00:14,  3.69it/s]"
     ]
    },
    {
     "name": "stdout",
     "output_type": "stream",
     "text": [
      "12/12 [==============================] - 0s 21ms/step - loss: 0.5142 - accuracy: 0.8511\n",
      "Epoch 46/100\n",
      "11/12 [==========================>...] - ETA: 0s - loss: 0.4211 - accuracy: 0.9186"
     ]
    },
    {
     "name": "stderr",
     "output_type": "stream",
     "text": [
      "Training:  46%|████▌     | 46/100 [00:13<00:14,  3.69it/s]"
     ]
    },
    {
     "name": "stdout",
     "output_type": "stream",
     "text": [
      "12/12 [==============================] - 0s 20ms/step - loss: 0.4398 - accuracy: 0.9149\n",
      "Epoch 47/100\n",
      "10/12 [========================>.....] - ETA: 0s - loss: 0.4856 - accuracy: 0.9103"
     ]
    },
    {
     "name": "stderr",
     "output_type": "stream",
     "text": [
      "Training:  47%|████▋     | 47/100 [00:13<00:14,  3.58it/s]"
     ]
    },
    {
     "name": "stdout",
     "output_type": "stream",
     "text": [
      "12/12 [==============================] - 0s 23ms/step - loss: 0.4940 - accuracy: 0.8936\n",
      "Epoch 48/100\n",
      "10/12 [========================>.....] - ETA: 0s - loss: 0.5438 - accuracy: 0.8375"
     ]
    },
    {
     "name": "stderr",
     "output_type": "stream",
     "text": [
      "Training:  48%|████▊     | 48/100 [00:14<00:14,  3.59it/s]"
     ]
    },
    {
     "name": "stdout",
     "output_type": "stream",
     "text": [
      "12/12 [==============================] - 0s 21ms/step - loss: 0.5518 - accuracy: 0.8333\n",
      "Epoch 49/100\n",
      "10/12 [========================>.....] - ETA: 0s - loss: 0.5132 - accuracy: 0.8205"
     ]
    },
    {
     "name": "stderr",
     "output_type": "stream",
     "text": [
      "Training:  49%|████▉     | 49/100 [00:14<00:14,  3.63it/s]"
     ]
    },
    {
     "name": "stdout",
     "output_type": "stream",
     "text": [
      "12/12 [==============================] - 0s 20ms/step - loss: 0.5024 - accuracy: 0.8404\n",
      "Epoch 50/100\n",
      "10/12 [========================>.....] - ETA: 0s - loss: 0.6890 - accuracy: 0.7821"
     ]
    },
    {
     "name": "stderr",
     "output_type": "stream",
     "text": [
      "Training:  50%|█████     | 50/100 [00:14<00:13,  3.61it/s]"
     ]
    },
    {
     "name": "stdout",
     "output_type": "stream",
     "text": [
      "12/12 [==============================] - 0s 21ms/step - loss: 0.6477 - accuracy: 0.7979\n",
      "Epoch 51/100\n",
      "10/12 [========================>.....] - ETA: 0s - loss: 0.4446 - accuracy: 0.8974"
     ]
    },
    {
     "name": "stderr",
     "output_type": "stream",
     "text": [
      "Training:  51%|█████     | 51/100 [00:14<00:13,  3.57it/s]"
     ]
    },
    {
     "name": "stdout",
     "output_type": "stream",
     "text": [
      "12/12 [==============================] - 0s 21ms/step - loss: 0.4776 - accuracy: 0.8617\n",
      "Epoch 52/100\n",
      "10/12 [========================>.....] - ETA: 0s - loss: 0.4983 - accuracy: 0.8462"
     ]
    },
    {
     "name": "stderr",
     "output_type": "stream",
     "text": [
      "Training:  52%|█████▏    | 52/100 [00:15<00:13,  3.57it/s]"
     ]
    },
    {
     "name": "stdout",
     "output_type": "stream",
     "text": [
      "12/12 [==============================] - 0s 21ms/step - loss: 0.4817 - accuracy: 0.8617\n",
      "Epoch 53/100\n",
      "10/12 [========================>.....] - ETA: 0s - loss: 0.4579 - accuracy: 0.8250"
     ]
    },
    {
     "name": "stderr",
     "output_type": "stream",
     "text": [
      "Training:  53%|█████▎    | 53/100 [00:15<00:12,  3.63it/s]"
     ]
    },
    {
     "name": "stdout",
     "output_type": "stream",
     "text": [
      "12/12 [==============================] - 0s 19ms/step - loss: 0.4590 - accuracy: 0.8298\n",
      "Epoch 54/100\n",
      "10/12 [========================>.....] - ETA: 0s - loss: 0.4019 - accuracy: 0.8875"
     ]
    },
    {
     "name": "stderr",
     "output_type": "stream",
     "text": [
      "Training:  54%|█████▍    | 54/100 [00:15<00:12,  3.57it/s]"
     ]
    },
    {
     "name": "stdout",
     "output_type": "stream",
     "text": [
      "\n",
      "12/12 [==============================] - 0s 22ms/step - loss: 0.4034 - accuracy: 0.8936\n",
      "Epoch 55/100\n",
      "10/12 [========================>.....] - ETA: 0s - loss: 0.4291 - accuracy: 0.8846"
     ]
    },
    {
     "name": "stderr",
     "output_type": "stream",
     "text": [
      "Training:  55%|█████▌    | 55/100 [00:16<00:12,  3.57it/s]"
     ]
    },
    {
     "name": "stdout",
     "output_type": "stream",
     "text": [
      "12/12 [==============================] - 0s 21ms/step - loss: 0.4222 - accuracy: 0.8936\n",
      "Epoch 56/100\n",
      "10/12 [========================>.....] - ETA: 0s - loss: 0.4681 - accuracy: 0.8846"
     ]
    },
    {
     "name": "stderr",
     "output_type": "stream",
     "text": [
      "Training:  56%|█████▌    | 56/100 [00:16<00:12,  3.57it/s]"
     ]
    },
    {
     "name": "stdout",
     "output_type": "stream",
     "text": [
      "12/12 [==============================] - 0s 20ms/step - loss: 0.4560 - accuracy: 0.8936\n",
      "Epoch 57/100\n",
      "10/12 [========================>.....] - ETA: 0s - loss: 0.4959 - accuracy: 0.8590"
     ]
    },
    {
     "name": "stderr",
     "output_type": "stream",
     "text": [
      "Training:  57%|█████▋    | 57/100 [00:16<00:12,  3.55it/s]"
     ]
    },
    {
     "name": "stdout",
     "output_type": "stream",
     "text": [
      "12/12 [==============================] - 0s 21ms/step - loss: 0.4650 - accuracy: 0.8723\n",
      "Epoch 58/100\n",
      "10/12 [========================>.....] - ETA: 0s - loss: 0.3935 - accuracy: 0.8846"
     ]
    },
    {
     "name": "stderr",
     "output_type": "stream",
     "text": [
      "Training:  58%|█████▊    | 58/100 [00:16<00:11,  3.58it/s]"
     ]
    },
    {
     "name": "stdout",
     "output_type": "stream",
     "text": [
      "12/12 [==============================] - 0s 20ms/step - loss: 0.4133 - accuracy: 0.8830\n",
      "Epoch 59/100\n",
      "10/12 [========================>.....] - ETA: 0s - loss: 0.4726 - accuracy: 0.8846"
     ]
    },
    {
     "name": "stderr",
     "output_type": "stream",
     "text": [
      "Training:  59%|█████▉    | 59/100 [00:17<00:11,  3.57it/s]"
     ]
    },
    {
     "name": "stdout",
     "output_type": "stream",
     "text": [
      "12/12 [==============================] - 0s 21ms/step - loss: 0.5101 - accuracy: 0.8511\n",
      "Epoch 60/100\n",
      "10/12 [========================>.....] - ETA: 0s - loss: 0.4161 - accuracy: 0.8846"
     ]
    },
    {
     "name": "stderr",
     "output_type": "stream",
     "text": [
      "Training:  60%|██████    | 60/100 [00:17<00:11,  3.53it/s]"
     ]
    },
    {
     "name": "stdout",
     "output_type": "stream",
     "text": [
      "12/12 [==============================] - 0s 22ms/step - loss: 0.5093 - accuracy: 0.8617\n",
      "Epoch 61/100\n",
      "10/12 [========================>.....] - ETA: 0s - loss: 0.5485 - accuracy: 0.8375"
     ]
    },
    {
     "name": "stderr",
     "output_type": "stream",
     "text": [
      "Training:  61%|██████    | 61/100 [00:17<00:11,  3.53it/s]"
     ]
    },
    {
     "name": "stdout",
     "output_type": "stream",
     "text": [
      "12/12 [==============================] - 0s 21ms/step - loss: 0.5634 - accuracy: 0.8298\n",
      "Epoch 62/100\n",
      "10/12 [========================>.....] - ETA: 0s - loss: 0.5216 - accuracy: 0.8718"
     ]
    },
    {
     "name": "stderr",
     "output_type": "stream",
     "text": [
      "Training:  62%|██████▏   | 62/100 [00:18<00:10,  3.55it/s]"
     ]
    },
    {
     "name": "stdout",
     "output_type": "stream",
     "text": [
      "12/12 [==============================] - 0s 20ms/step - loss: 0.5129 - accuracy: 0.8617\n",
      "Epoch 63/100\n",
      "10/12 [========================>.....] - ETA: 0s - loss: 0.3962 - accuracy: 0.8974"
     ]
    },
    {
     "name": "stderr",
     "output_type": "stream",
     "text": [
      "Training:  63%|██████▎   | 63/100 [00:18<00:10,  3.58it/s]"
     ]
    },
    {
     "name": "stdout",
     "output_type": "stream",
     "text": [
      "12/12 [==============================] - 0s 20ms/step - loss: 0.4334 - accuracy: 0.8617\n",
      "Epoch 64/100\n",
      "10/12 [========================>.....] - ETA: 0s - loss: 0.4010 - accuracy: 0.8974"
     ]
    },
    {
     "name": "stderr",
     "output_type": "stream",
     "text": [
      "Training:  64%|██████▍   | 64/100 [00:18<00:10,  3.58it/s]"
     ]
    },
    {
     "name": "stdout",
     "output_type": "stream",
     "text": [
      "\n",
      "12/12 [==============================] - 0s 21ms/step - loss: 0.3874 - accuracy: 0.9043\n",
      "Epoch 65/100\n",
      "10/12 [========================>.....] - ETA: 0s - loss: 0.5015 - accuracy: 0.8375"
     ]
    },
    {
     "name": "stderr",
     "output_type": "stream",
     "text": [
      "Training:  65%|██████▌   | 65/100 [00:18<00:09,  3.58it/s]"
     ]
    },
    {
     "name": "stdout",
     "output_type": "stream",
     "text": [
      "12/12 [==============================] - 0s 21ms/step - loss: 0.4987 - accuracy: 0.8404\n",
      "Epoch 66/100\n",
      "10/12 [========================>.....] - ETA: 0s - loss: 0.4215 - accuracy: 0.9125"
     ]
    },
    {
     "name": "stderr",
     "output_type": "stream",
     "text": [
      "Training:  66%|██████▌   | 66/100 [00:19<00:09,  3.61it/s]"
     ]
    },
    {
     "name": "stdout",
     "output_type": "stream",
     "text": [
      "12/12 [==============================] - 0s 20ms/step - loss: 0.4352 - accuracy: 0.8830\n",
      "Epoch 67/100\n",
      "10/12 [========================>.....] - ETA: 0s - loss: 0.3500 - accuracy: 0.9375"
     ]
    },
    {
     "name": "stderr",
     "output_type": "stream",
     "text": [
      "Training:  67%|██████▋   | 67/100 [00:19<00:09,  3.65it/s]"
     ]
    },
    {
     "name": "stdout",
     "output_type": "stream",
     "text": [
      "\n",
      "12/12 [==============================] - 0s 20ms/step - loss: 0.3797 - accuracy: 0.9043\n",
      "Epoch 68/100\n",
      "10/12 [========================>.....] - ETA: 0s - loss: 0.4179 - accuracy: 0.8718"
     ]
    },
    {
     "name": "stderr",
     "output_type": "stream",
     "text": [
      "Training:  68%|██████▊   | 68/100 [00:19<00:08,  3.65it/s]"
     ]
    },
    {
     "name": "stdout",
     "output_type": "stream",
     "text": [
      "12/12 [==============================] - 0s 20ms/step - loss: 0.3896 - accuracy: 0.8936\n",
      "Epoch 69/100\n",
      "11/12 [==========================>...] - ETA: 0s - loss: 0.3798 - accuracy: 0.8953"
     ]
    },
    {
     "name": "stderr",
     "output_type": "stream",
     "text": [
      "Training:  69%|██████▉   | 69/100 [00:19<00:08,  3.70it/s]"
     ]
    },
    {
     "name": "stdout",
     "output_type": "stream",
     "text": [
      "12/12 [==============================] - 0s 19ms/step - loss: 0.4187 - accuracy: 0.8723\n",
      "Epoch 70/100\n",
      "10/12 [========================>.....] - ETA: 0s - loss: 0.3859 - accuracy: 0.9103"
     ]
    },
    {
     "name": "stderr",
     "output_type": "stream",
     "text": [
      "Training:  70%|███████   | 70/100 [00:20<00:08,  3.67it/s]"
     ]
    },
    {
     "name": "stdout",
     "output_type": "stream",
     "text": [
      "12/12 [==============================] - 0s 21ms/step - loss: 0.4115 - accuracy: 0.8936\n",
      "Epoch 71/100\n",
      "10/12 [========================>.....] - ETA: 0s - loss: 0.3759 - accuracy: 0.9103"
     ]
    },
    {
     "name": "stderr",
     "output_type": "stream",
     "text": [
      "Training:  71%|███████   | 71/100 [00:20<00:07,  3.66it/s]"
     ]
    },
    {
     "name": "stdout",
     "output_type": "stream",
     "text": [
      "\n",
      "12/12 [==============================] - 0s 20ms/step - loss: 0.3638 - accuracy: 0.9149\n",
      "Epoch 72/100\n",
      "10/12 [========================>.....] - ETA: 0s - loss: 0.3341 - accuracy: 0.9500"
     ]
    },
    {
     "name": "stderr",
     "output_type": "stream",
     "text": [
      "Training:  72%|███████▏  | 72/100 [00:20<00:07,  3.69it/s]"
     ]
    },
    {
     "name": "stdout",
     "output_type": "stream",
     "text": [
      "\n",
      "New Best Accuracy: 0.9468\n",
      "\n",
      "12/12 [==============================] - 0s 20ms/step - loss: 0.3324 - accuracy: 0.9468\n",
      "Epoch 73/100\n",
      "10/12 [========================>.....] - ETA: 0s - loss: 0.4385 - accuracy: 0.8590"
     ]
    },
    {
     "name": "stderr",
     "output_type": "stream",
     "text": [
      "Training:  73%|███████▎  | 73/100 [00:21<00:07,  3.67it/s]"
     ]
    },
    {
     "name": "stdout",
     "output_type": "stream",
     "text": [
      "12/12 [==============================] - 0s 20ms/step - loss: 0.4266 - accuracy: 0.8617\n",
      "Epoch 74/100\n",
      "10/12 [========================>.....] - ETA: 0s - loss: 0.4186 - accuracy: 0.8846"
     ]
    },
    {
     "name": "stderr",
     "output_type": "stream",
     "text": [
      "Training:  74%|███████▍  | 74/100 [00:21<00:07,  3.66it/s]"
     ]
    },
    {
     "name": "stdout",
     "output_type": "stream",
     "text": [
      "12/12 [==============================] - 0s 21ms/step - loss: 0.4338 - accuracy: 0.8723\n",
      "Epoch 75/100\n",
      "10/12 [========================>.....] - ETA: 0s - loss: 0.4788 - accuracy: 0.7949"
     ]
    },
    {
     "name": "stderr",
     "output_type": "stream",
     "text": [
      "Training:  75%|███████▌  | 75/100 [00:21<00:06,  3.66it/s]"
     ]
    },
    {
     "name": "stdout",
     "output_type": "stream",
     "text": [
      "12/12 [==============================] - 0s 20ms/step - loss: 0.4678 - accuracy: 0.8085\n",
      "Epoch 76/100\n",
      "10/12 [========================>.....] - ETA: 0s - loss: 0.4352 - accuracy: 0.8875"
     ]
    },
    {
     "name": "stderr",
     "output_type": "stream",
     "text": [
      "Training:  76%|███████▌  | 76/100 [00:21<00:06,  3.69it/s]"
     ]
    },
    {
     "name": "stdout",
     "output_type": "stream",
     "text": [
      "12/12 [==============================] - 0s 20ms/step - loss: 0.4056 - accuracy: 0.8936\n",
      "Epoch 77/100\n",
      "10/12 [========================>.....] - ETA: 0s - loss: 0.5399 - accuracy: 0.8205"
     ]
    },
    {
     "name": "stderr",
     "output_type": "stream",
     "text": [
      "Training:  77%|███████▋  | 77/100 [00:22<00:06,  3.68it/s]"
     ]
    },
    {
     "name": "stdout",
     "output_type": "stream",
     "text": [
      "12/12 [==============================] - 0s 20ms/step - loss: 0.5712 - accuracy: 0.8085\n",
      "Epoch 78/100\n",
      "10/12 [========================>.....] - ETA: 0s - loss: 0.6109 - accuracy: 0.7949"
     ]
    },
    {
     "name": "stderr",
     "output_type": "stream",
     "text": [
      "Training:  78%|███████▊  | 78/100 [00:22<00:06,  3.64it/s]"
     ]
    },
    {
     "name": "stdout",
     "output_type": "stream",
     "text": [
      "12/12 [==============================] - 0s 21ms/step - loss: 0.5971 - accuracy: 0.7979\n",
      "Epoch 79/100\n",
      "10/12 [========================>.....] - ETA: 0s - loss: 0.5705 - accuracy: 0.8125"
     ]
    },
    {
     "name": "stderr",
     "output_type": "stream",
     "text": [
      "Training:  79%|███████▉  | 79/100 [00:22<00:05,  3.59it/s]"
     ]
    },
    {
     "name": "stdout",
     "output_type": "stream",
     "text": [
      "12/12 [==============================] - 0s 21ms/step - loss: 0.5728 - accuracy: 0.8229\n",
      "Epoch 80/100\n",
      "11/12 [==========================>...] - ETA: 0s - loss: 0.4657 - accuracy: 0.8140"
     ]
    },
    {
     "name": "stderr",
     "output_type": "stream",
     "text": [
      "Training:  80%|████████  | 80/100 [00:22<00:05,  3.62it/s]"
     ]
    },
    {
     "name": "stdout",
     "output_type": "stream",
     "text": [
      "12/12 [==============================] - 0s 20ms/step - loss: 0.4610 - accuracy: 0.8191\n",
      "Epoch 81/100\n",
      "10/12 [========================>.....] - ETA: 0s - loss: 0.4101 - accuracy: 0.9000"
     ]
    },
    {
     "name": "stderr",
     "output_type": "stream",
     "text": [
      "Training:  81%|████████  | 81/100 [00:23<00:05,  3.64it/s]"
     ]
    },
    {
     "name": "stdout",
     "output_type": "stream",
     "text": [
      "12/12 [==============================] - 0s 20ms/step - loss: 0.4044 - accuracy: 0.9043\n",
      "Epoch 82/100\n",
      "10/12 [========================>.....] - ETA: 0s - loss: 0.2874 - accuracy: 0.9750"
     ]
    },
    {
     "name": "stderr",
     "output_type": "stream",
     "text": [
      "Training:  82%|████████▏ | 82/100 [00:23<00:04,  3.64it/s]"
     ]
    },
    {
     "name": "stdout",
     "output_type": "stream",
     "text": [
      "\n",
      "New Best Accuracy: 0.9574\n",
      "12/12 [==============================] - 0s 20ms/step - loss: 0.3465 - accuracy: 0.9574\n",
      "Epoch 83/100\n",
      "10/12 [========================>.....] - ETA: 0s - loss: 0.3376 - accuracy: 0.9103"
     ]
    },
    {
     "name": "stderr",
     "output_type": "stream",
     "text": [
      "Training:  83%|████████▎ | 83/100 [00:23<00:04,  3.66it/s]"
     ]
    },
    {
     "name": "stdout",
     "output_type": "stream",
     "text": [
      "\n",
      "12/12 [==============================] - 0s 20ms/step - loss: 0.3186 - accuracy: 0.9149\n",
      "Epoch 84/100\n",
      "10/12 [========================>.....] - ETA: 0s - loss: 0.3417 - accuracy: 0.8974"
     ]
    },
    {
     "name": "stderr",
     "output_type": "stream",
     "text": [
      "Training:  84%|████████▍ | 84/100 [00:24<00:04,  3.68it/s]"
     ]
    },
    {
     "name": "stdout",
     "output_type": "stream",
     "text": [
      "12/12 [==============================] - 0s 20ms/step - loss: 0.3331 - accuracy: 0.9149\n",
      "Epoch 85/100\n",
      "10/12 [========================>.....] - ETA: 0s - loss: 0.3377 - accuracy: 0.9103"
     ]
    },
    {
     "name": "stderr",
     "output_type": "stream",
     "text": [
      "Training:  85%|████████▌ | 85/100 [00:24<00:04,  3.65it/s]"
     ]
    },
    {
     "name": "stdout",
     "output_type": "stream",
     "text": [
      "12/12 [==============================] - 0s 21ms/step - loss: 0.3225 - accuracy: 0.9149\n",
      "Epoch 86/100\n",
      "10/12 [========================>.....] - ETA: 0s - loss: 0.3428 - accuracy: 0.9250"
     ]
    },
    {
     "name": "stderr",
     "output_type": "stream",
     "text": [
      "Training:  86%|████████▌ | 86/100 [00:24<00:03,  3.71it/s]"
     ]
    },
    {
     "name": "stdout",
     "output_type": "stream",
     "text": [
      "12/12 [==============================] - 0s 19ms/step - loss: 0.3409 - accuracy: 0.9255\n",
      "Epoch 87/100\n",
      "10/12 [========================>.....] - ETA: 0s - loss: 0.3566 - accuracy: 0.9103"
     ]
    },
    {
     "name": "stderr",
     "output_type": "stream",
     "text": [
      "Training:  87%|████████▋ | 87/100 [00:24<00:03,  3.68it/s]"
     ]
    },
    {
     "name": "stdout",
     "output_type": "stream",
     "text": [
      "12/12 [==============================] - 0s 20ms/step - loss: 0.3850 - accuracy: 0.8830\n",
      "Epoch 88/100\n",
      "10/12 [========================>.....] - ETA: 0s - loss: 0.4565 - accuracy: 0.8333"
     ]
    },
    {
     "name": "stderr",
     "output_type": "stream",
     "text": [
      "Training:  88%|████████▊ | 88/100 [00:25<00:03,  3.63it/s]"
     ]
    },
    {
     "name": "stdout",
     "output_type": "stream",
     "text": [
      "12/12 [==============================] - 0s 21ms/step - loss: 0.4452 - accuracy: 0.8404\n",
      "Epoch 89/100\n",
      "10/12 [========================>.....] - ETA: 0s - loss: 0.4043 - accuracy: 0.8718"
     ]
    },
    {
     "name": "stderr",
     "output_type": "stream",
     "text": [
      "Training:  89%|████████▉ | 89/100 [00:25<00:03,  3.65it/s]"
     ]
    },
    {
     "name": "stdout",
     "output_type": "stream",
     "text": [
      "12/12 [==============================] - 0s 20ms/step - loss: 0.4123 - accuracy: 0.8830\n",
      "Epoch 90/100\n",
      "11/12 [==========================>...] - ETA: 0s - loss: 0.3821 - accuracy: 0.8721"
     ]
    },
    {
     "name": "stderr",
     "output_type": "stream",
     "text": [
      "Training:  90%|█████████ | 90/100 [00:25<00:02,  3.68it/s]"
     ]
    },
    {
     "name": "stdout",
     "output_type": "stream",
     "text": [
      "12/12 [==============================] - 0s 19ms/step - loss: 0.3695 - accuracy: 0.8830\n",
      "Epoch 91/100\n",
      "10/12 [========================>.....] - ETA: 0s - loss: 0.4667 - accuracy: 0.8462"
     ]
    },
    {
     "name": "stderr",
     "output_type": "stream",
     "text": [
      "Training:  91%|█████████ | 91/100 [00:25<00:02,  3.67it/s]"
     ]
    },
    {
     "name": "stdout",
     "output_type": "stream",
     "text": [
      "12/12 [==============================] - 0s 20ms/step - loss: 0.4186 - accuracy: 0.8723\n",
      "Epoch 92/100\n",
      "10/12 [========================>.....] - ETA: 0s - loss: 0.3181 - accuracy: 0.8974"
     ]
    },
    {
     "name": "stderr",
     "output_type": "stream",
     "text": [
      "Training:  92%|█████████▏| 92/100 [00:26<00:02,  3.65it/s]"
     ]
    },
    {
     "name": "stdout",
     "output_type": "stream",
     "text": [
      "\n",
      "12/12 [==============================] - 0s 20ms/step - loss: 0.3122 - accuracy: 0.9043\n",
      "Epoch 93/100\n",
      "10/12 [========================>.....] - ETA: 0s - loss: 0.3736 - accuracy: 0.8846"
     ]
    },
    {
     "name": "stderr",
     "output_type": "stream",
     "text": [
      "Training:  93%|█████████▎| 93/100 [00:26<00:01,  3.64it/s]"
     ]
    },
    {
     "name": "stdout",
     "output_type": "stream",
     "text": [
      "12/12 [==============================] - 0s 21ms/step - loss: 0.3570 - accuracy: 0.8936\n",
      "Epoch 94/100\n",
      "10/12 [========================>.....] - ETA: 0s - loss: 0.3479 - accuracy: 0.9487"
     ]
    },
    {
     "name": "stderr",
     "output_type": "stream",
     "text": [
      "Training:  94%|█████████▍| 94/100 [00:26<00:01,  3.62it/s]"
     ]
    },
    {
     "name": "stdout",
     "output_type": "stream",
     "text": [
      "12/12 [==============================] - 0s 21ms/step - loss: 0.3317 - accuracy: 0.9574\n",
      "Epoch 95/100\n",
      "10/12 [========================>.....] - ETA: 0s - loss: 0.2901 - accuracy: 0.9500"
     ]
    },
    {
     "name": "stderr",
     "output_type": "stream",
     "text": [
      "Training:  95%|█████████▌| 95/100 [00:27<00:01,  3.63it/s]"
     ]
    },
    {
     "name": "stdout",
     "output_type": "stream",
     "text": [
      "12/12 [==============================] - 0s 20ms/step - loss: 0.3259 - accuracy: 0.9468\n",
      "Epoch 96/100\n",
      "10/12 [========================>.....] - ETA: 0s - loss: 0.3584 - accuracy: 0.9125"
     ]
    },
    {
     "name": "stderr",
     "output_type": "stream",
     "text": [
      "Training:  96%|█████████▌| 96/100 [00:27<00:01,  3.62it/s]"
     ]
    },
    {
     "name": "stdout",
     "output_type": "stream",
     "text": [
      "12/12 [==============================] - 0s 20ms/step - loss: 0.3652 - accuracy: 0.9043\n",
      "Epoch 97/100\n",
      "10/12 [========================>.....] - ETA: 0s - loss: 0.3343 - accuracy: 0.8846"
     ]
    },
    {
     "name": "stderr",
     "output_type": "stream",
     "text": [
      "Training:  97%|█████████▋| 97/100 [00:27<00:00,  3.64it/s]"
     ]
    },
    {
     "name": "stdout",
     "output_type": "stream",
     "text": [
      "12/12 [==============================] - 0s 20ms/step - loss: 0.3362 - accuracy: 0.8830\n",
      "Epoch 98/100\n",
      "10/12 [========================>.....] - ETA: 0s - loss: 0.3739 - accuracy: 0.8974"
     ]
    },
    {
     "name": "stderr",
     "output_type": "stream",
     "text": [
      "Training:  98%|█████████▊| 98/100 [00:27<00:00,  3.68it/s]"
     ]
    },
    {
     "name": "stdout",
     "output_type": "stream",
     "text": [
      "12/12 [==============================] - 0s 20ms/step - loss: 0.3839 - accuracy: 0.8936\n",
      "Epoch 99/100\n",
      "10/12 [========================>.....] - ETA: 0s - loss: 0.4013 - accuracy: 0.9231"
     ]
    },
    {
     "name": "stderr",
     "output_type": "stream",
     "text": [
      "Training:  99%|█████████▉| 99/100 [00:28<00:00,  3.70it/s]"
     ]
    },
    {
     "name": "stdout",
     "output_type": "stream",
     "text": [
      "12/12 [==============================] - 0s 20ms/step - loss: 0.4087 - accuracy: 0.9043\n",
      "Epoch 100/100\n",
      "10/12 [========================>.....] - ETA: 0s - loss: 0.3127 - accuracy: 0.9359"
     ]
    },
    {
     "name": "stderr",
     "output_type": "stream",
     "text": [
      "Training: 100%|██████████| 100/100 [00:28<00:00,  3.70it/s]"
     ]
    },
    {
     "name": "stdout",
     "output_type": "stream",
     "text": [
      "\n",
      "12/12 [==============================] - 0s 20ms/step - loss: 0.2907 - accuracy: 0.9468\n"
     ]
    },
    {
     "name": "stderr",
     "output_type": "stream",
     "text": [
      "Training: 100%|██████████| 100/100 [00:28<00:00,  3.52it/s]"
     ]
    },
    {
     "name": "stdout",
     "output_type": "stream",
     "text": [
      "\n",
      "Best Accuracy: 0.9574\n",
      "Worst Accuracy: 0.5213\n",
      "Best Loss: 0.2907\n",
      "Worst Loss: 2.2214\n"
     ]
    },
    {
     "name": "stderr",
     "output_type": "stream",
     "text": [
      "\n"
     ]
    }
   ],
   "source": [
    "# Progress bar callback for training\n",
    "class TQDMProgressBar(Callback):\n",
    "    def __init__(self, total):\n",
    "        self.total = total\n",
    "        self.pbar = None\n",
    "        self.current_epoch = 0\n",
    "        self.best_accuracy = float('-inf')  # Initialize with negative infinity\n",
    "        self.worst_accuracy = float('inf')  # Initialize with positive infinity\n",
    "        self.best_loss = float('inf')  # Initialize with positive infinity\n",
    "        self.worst_loss = float('-inf')  # Initialize with negative infinity\n",
    "\n",
    "    def on_epoch_begin(self, epoch, logs=None):\n",
    "        self.current_epoch = epoch\n",
    "\n",
    "    def on_epoch_end(self, epoch, logs=None):\n",
    "        if self.current_epoch == epoch:\n",
    "            self.pbar.update(1)\n",
    "            current_accuracy = logs.get('accuracy', 0)\n",
    "            current_loss = logs.get('loss', 0)\n",
    "            \n",
    "            # Update best accuracy\n",
    "            if current_accuracy > self.best_accuracy:\n",
    "                self.best_accuracy = current_accuracy\n",
    "                print(f\"\\nNew Best Accuracy: {current_accuracy:.4f}\")\n",
    "\n",
    "            # Update worst accuracy\n",
    "            if current_accuracy < self.worst_accuracy:\n",
    "                self.worst_accuracy = current_accuracy\n",
    "                print(f\"New Worst Accuracy: {current_accuracy:.4f}\", end='')\n",
    "\n",
    "            # Update best loss\n",
    "            if current_loss < self.best_loss:\n",
    "                self.best_loss = current_loss\n",
    "                print(f\"\\nNew Best Loss: {current_loss:.4f}\", end='')\n",
    "\n",
    "            # Update worst loss\n",
    "            if current_loss > self.worst_loss:\n",
    "                self.worst_loss = current_loss\n",
    "                print(f\"New Worst Loss: {current_loss:.4f}\", end='')\n",
    "\n",
    "    def on_train_begin(self, logs=None):\n",
    "        self.pbar = tqdm(total=self.total, desc='Training', position=0, leave=True, dynamic_ncols=True)\n",
    "\n",
    "    def on_train_end(self, logs=None):\n",
    "        self.pbar.close()\n",
    "        print(f\"\\nBest Accuracy: {self.best_accuracy:.4f}\")\n",
    "        print(f\"Worst Accuracy: {self.worst_accuracy:.4f}\")\n",
    "        print(f\"Best Loss: {self.best_loss:.4f}\")\n",
    "        print(f\"Worst Loss: {self.worst_loss:.4f}\")\n",
    "\n",
    "# Create an instance of the TQDMProgressBar\n",
    "progress_bar = TQDMProgressBar(total=hyper_parameters[\"number-of-epochs\"])\n",
    "\n",
    "# Train model with tqdm progress bar\n",
    "train_model = custom_model.model.fit(train_generator,\n",
    "                                     steps_per_epoch=int(len(X_train)/hyper_parameters[\"batch-size\"]), \n",
    "                                     epochs=hyper_parameters[\"number-of-epochs\"],\n",
    "                                     callbacks=[progress_bar])\n"
   ]
  },
  {
   "cell_type": "code",
   "execution_count": 90,
   "metadata": {},
   "outputs": [
    {
     "data": {
      "application/vnd.plotly.v1+json": {
       "config": {
        "linkText": "Export to plot.ly",
        "plotlyServerURL": "https://plot.ly",
        "showLink": false
       },
       "data": [
        {
         "mode": "lines+markers",
         "name": "Train Loss",
         "type": "scatter",
         "x": [
          1,
          2,
          3,
          4,
          5,
          6,
          7,
          8,
          9,
          10,
          11,
          12,
          13,
          14,
          15,
          16,
          17,
          18,
          19,
          20,
          21,
          22,
          23,
          24,
          25,
          26,
          27,
          28,
          29,
          30,
          31,
          32,
          33,
          34,
          35,
          36,
          37,
          38,
          39,
          40,
          41,
          42,
          43,
          44,
          45,
          46,
          47,
          48,
          49,
          50,
          51,
          52,
          53,
          54,
          55,
          56,
          57,
          58,
          59,
          60,
          61,
          62,
          63,
          64,
          65,
          66,
          67,
          68,
          69,
          70,
          71,
          72,
          73,
          74,
          75,
          76,
          77,
          78,
          79,
          80,
          81,
          82,
          83,
          84,
          85,
          86,
          87,
          88,
          89,
          90,
          91,
          92,
          93,
          94,
          95,
          96,
          97,
          98,
          99,
          100
         ],
         "y": [
          2.221414566040039,
          1.4857001304626465,
          1.4129023551940918,
          1.200735330581665,
          1.1527520418167114,
          1.0592418909072876,
          0.9601072072982788,
          0.9395321011543274,
          0.9287585616111755,
          0.9146664142608643,
          1.0951180458068848,
          0.936628520488739,
          0.9016824960708618,
          0.9243893623352051,
          0.8729861378669739,
          0.7222273945808411,
          0.7309482097625732,
          0.752234160900116,
          0.6743303537368774,
          0.6357717514038086,
          0.7000382542610168,
          0.6027600169181824,
          0.6822431683540344,
          0.5781810879707336,
          0.599960446357727,
          0.6151716113090515,
          0.5650816559791565,
          0.5683243870735168,
          0.5182936787605286,
          0.5882979035377502,
          0.43048667907714844,
          0.5860804319381714,
          0.5643396377563477,
          0.5808367729187012,
          0.6810385584831238,
          0.8568269610404968,
          0.630680501461029,
          0.5718891620635986,
          0.45016583800315857,
          0.5335813760757446,
          0.5423285961151123,
          0.742622971534729,
          0.5653330087661743,
          0.5236353874206543,
          0.5142143964767456,
          0.43976837396621704,
          0.4939604103565216,
          0.5517895817756653,
          0.502425491809845,
          0.6477270126342773,
          0.47755569219589233,
          0.4816898703575134,
          0.45902690291404724,
          0.4033578932285309,
          0.42221876978874207,
          0.4559764862060547,
          0.4650093615055084,
          0.4132901132106781,
          0.5100910663604736,
          0.5093267560005188,
          0.5633675456047058,
          0.5129294395446777,
          0.43340903520584106,
          0.3874356150627136,
          0.4986867606639862,
          0.4351980686187744,
          0.37970608472824097,
          0.3896394371986389,
          0.41873323917388916,
          0.41147419810295105,
          0.3638097941875458,
          0.33241236209869385,
          0.4266335368156433,
          0.43381378054618835,
          0.46784302592277527,
          0.4056124985218048,
          0.5711777806282043,
          0.5971028804779053,
          0.572759211063385,
          0.46102219820022583,
          0.4044457972049713,
          0.34653639793395996,
          0.3186301589012146,
          0.33306658267974854,
          0.32245081663131714,
          0.34093376994132996,
          0.3850478231906891,
          0.4451655149459839,
          0.41228750348091125,
          0.3695301413536072,
          0.4185842275619507,
          0.31215155124664307,
          0.3569773733615875,
          0.33172157406806946,
          0.3258506655693054,
          0.3652457296848297,
          0.3362414538860321,
          0.3838699758052826,
          0.4086947441101074,
          0.29073816537857056
         ]
        }
       ],
       "layout": {
        "hovermode": "closest",
        "template": {
         "data": {
          "bar": [
           {
            "error_x": {
             "color": "#2a3f5f"
            },
            "error_y": {
             "color": "#2a3f5f"
            },
            "marker": {
             "line": {
              "color": "#E5ECF6",
              "width": 0.5
             },
             "pattern": {
              "fillmode": "overlay",
              "size": 10,
              "solidity": 0.2
             }
            },
            "type": "bar"
           }
          ],
          "barpolar": [
           {
            "marker": {
             "line": {
              "color": "#E5ECF6",
              "width": 0.5
             },
             "pattern": {
              "fillmode": "overlay",
              "size": 10,
              "solidity": 0.2
             }
            },
            "type": "barpolar"
           }
          ],
          "carpet": [
           {
            "aaxis": {
             "endlinecolor": "#2a3f5f",
             "gridcolor": "white",
             "linecolor": "white",
             "minorgridcolor": "white",
             "startlinecolor": "#2a3f5f"
            },
            "baxis": {
             "endlinecolor": "#2a3f5f",
             "gridcolor": "white",
             "linecolor": "white",
             "minorgridcolor": "white",
             "startlinecolor": "#2a3f5f"
            },
            "type": "carpet"
           }
          ],
          "choropleth": [
           {
            "colorbar": {
             "outlinewidth": 0,
             "ticks": ""
            },
            "type": "choropleth"
           }
          ],
          "contour": [
           {
            "colorbar": {
             "outlinewidth": 0,
             "ticks": ""
            },
            "colorscale": [
             [
              0,
              "#0d0887"
             ],
             [
              0.1111111111111111,
              "#46039f"
             ],
             [
              0.2222222222222222,
              "#7201a8"
             ],
             [
              0.3333333333333333,
              "#9c179e"
             ],
             [
              0.4444444444444444,
              "#bd3786"
             ],
             [
              0.5555555555555556,
              "#d8576b"
             ],
             [
              0.6666666666666666,
              "#ed7953"
             ],
             [
              0.7777777777777778,
              "#fb9f3a"
             ],
             [
              0.8888888888888888,
              "#fdca26"
             ],
             [
              1,
              "#f0f921"
             ]
            ],
            "type": "contour"
           }
          ],
          "contourcarpet": [
           {
            "colorbar": {
             "outlinewidth": 0,
             "ticks": ""
            },
            "type": "contourcarpet"
           }
          ],
          "heatmap": [
           {
            "colorbar": {
             "outlinewidth": 0,
             "ticks": ""
            },
            "colorscale": [
             [
              0,
              "#0d0887"
             ],
             [
              0.1111111111111111,
              "#46039f"
             ],
             [
              0.2222222222222222,
              "#7201a8"
             ],
             [
              0.3333333333333333,
              "#9c179e"
             ],
             [
              0.4444444444444444,
              "#bd3786"
             ],
             [
              0.5555555555555556,
              "#d8576b"
             ],
             [
              0.6666666666666666,
              "#ed7953"
             ],
             [
              0.7777777777777778,
              "#fb9f3a"
             ],
             [
              0.8888888888888888,
              "#fdca26"
             ],
             [
              1,
              "#f0f921"
             ]
            ],
            "type": "heatmap"
           }
          ],
          "heatmapgl": [
           {
            "colorbar": {
             "outlinewidth": 0,
             "ticks": ""
            },
            "colorscale": [
             [
              0,
              "#0d0887"
             ],
             [
              0.1111111111111111,
              "#46039f"
             ],
             [
              0.2222222222222222,
              "#7201a8"
             ],
             [
              0.3333333333333333,
              "#9c179e"
             ],
             [
              0.4444444444444444,
              "#bd3786"
             ],
             [
              0.5555555555555556,
              "#d8576b"
             ],
             [
              0.6666666666666666,
              "#ed7953"
             ],
             [
              0.7777777777777778,
              "#fb9f3a"
             ],
             [
              0.8888888888888888,
              "#fdca26"
             ],
             [
              1,
              "#f0f921"
             ]
            ],
            "type": "heatmapgl"
           }
          ],
          "histogram": [
           {
            "marker": {
             "pattern": {
              "fillmode": "overlay",
              "size": 10,
              "solidity": 0.2
             }
            },
            "type": "histogram"
           }
          ],
          "histogram2d": [
           {
            "colorbar": {
             "outlinewidth": 0,
             "ticks": ""
            },
            "colorscale": [
             [
              0,
              "#0d0887"
             ],
             [
              0.1111111111111111,
              "#46039f"
             ],
             [
              0.2222222222222222,
              "#7201a8"
             ],
             [
              0.3333333333333333,
              "#9c179e"
             ],
             [
              0.4444444444444444,
              "#bd3786"
             ],
             [
              0.5555555555555556,
              "#d8576b"
             ],
             [
              0.6666666666666666,
              "#ed7953"
             ],
             [
              0.7777777777777778,
              "#fb9f3a"
             ],
             [
              0.8888888888888888,
              "#fdca26"
             ],
             [
              1,
              "#f0f921"
             ]
            ],
            "type": "histogram2d"
           }
          ],
          "histogram2dcontour": [
           {
            "colorbar": {
             "outlinewidth": 0,
             "ticks": ""
            },
            "colorscale": [
             [
              0,
              "#0d0887"
             ],
             [
              0.1111111111111111,
              "#46039f"
             ],
             [
              0.2222222222222222,
              "#7201a8"
             ],
             [
              0.3333333333333333,
              "#9c179e"
             ],
             [
              0.4444444444444444,
              "#bd3786"
             ],
             [
              0.5555555555555556,
              "#d8576b"
             ],
             [
              0.6666666666666666,
              "#ed7953"
             ],
             [
              0.7777777777777778,
              "#fb9f3a"
             ],
             [
              0.8888888888888888,
              "#fdca26"
             ],
             [
              1,
              "#f0f921"
             ]
            ],
            "type": "histogram2dcontour"
           }
          ],
          "mesh3d": [
           {
            "colorbar": {
             "outlinewidth": 0,
             "ticks": ""
            },
            "type": "mesh3d"
           }
          ],
          "parcoords": [
           {
            "line": {
             "colorbar": {
              "outlinewidth": 0,
              "ticks": ""
             }
            },
            "type": "parcoords"
           }
          ],
          "pie": [
           {
            "automargin": true,
            "type": "pie"
           }
          ],
          "scatter": [
           {
            "fillpattern": {
             "fillmode": "overlay",
             "size": 10,
             "solidity": 0.2
            },
            "type": "scatter"
           }
          ],
          "scatter3d": [
           {
            "line": {
             "colorbar": {
              "outlinewidth": 0,
              "ticks": ""
             }
            },
            "marker": {
             "colorbar": {
              "outlinewidth": 0,
              "ticks": ""
             }
            },
            "type": "scatter3d"
           }
          ],
          "scattercarpet": [
           {
            "marker": {
             "colorbar": {
              "outlinewidth": 0,
              "ticks": ""
             }
            },
            "type": "scattercarpet"
           }
          ],
          "scattergeo": [
           {
            "marker": {
             "colorbar": {
              "outlinewidth": 0,
              "ticks": ""
             }
            },
            "type": "scattergeo"
           }
          ],
          "scattergl": [
           {
            "marker": {
             "colorbar": {
              "outlinewidth": 0,
              "ticks": ""
             }
            },
            "type": "scattergl"
           }
          ],
          "scattermapbox": [
           {
            "marker": {
             "colorbar": {
              "outlinewidth": 0,
              "ticks": ""
             }
            },
            "type": "scattermapbox"
           }
          ],
          "scatterpolar": [
           {
            "marker": {
             "colorbar": {
              "outlinewidth": 0,
              "ticks": ""
             }
            },
            "type": "scatterpolar"
           }
          ],
          "scatterpolargl": [
           {
            "marker": {
             "colorbar": {
              "outlinewidth": 0,
              "ticks": ""
             }
            },
            "type": "scatterpolargl"
           }
          ],
          "scatterternary": [
           {
            "marker": {
             "colorbar": {
              "outlinewidth": 0,
              "ticks": ""
             }
            },
            "type": "scatterternary"
           }
          ],
          "surface": [
           {
            "colorbar": {
             "outlinewidth": 0,
             "ticks": ""
            },
            "colorscale": [
             [
              0,
              "#0d0887"
             ],
             [
              0.1111111111111111,
              "#46039f"
             ],
             [
              0.2222222222222222,
              "#7201a8"
             ],
             [
              0.3333333333333333,
              "#9c179e"
             ],
             [
              0.4444444444444444,
              "#bd3786"
             ],
             [
              0.5555555555555556,
              "#d8576b"
             ],
             [
              0.6666666666666666,
              "#ed7953"
             ],
             [
              0.7777777777777778,
              "#fb9f3a"
             ],
             [
              0.8888888888888888,
              "#fdca26"
             ],
             [
              1,
              "#f0f921"
             ]
            ],
            "type": "surface"
           }
          ],
          "table": [
           {
            "cells": {
             "fill": {
              "color": "#EBF0F8"
             },
             "line": {
              "color": "white"
             }
            },
            "header": {
             "fill": {
              "color": "#C8D4E3"
             },
             "line": {
              "color": "white"
             }
            },
            "type": "table"
           }
          ]
         },
         "layout": {
          "annotationdefaults": {
           "arrowcolor": "#2a3f5f",
           "arrowhead": 0,
           "arrowwidth": 1
          },
          "autotypenumbers": "strict",
          "coloraxis": {
           "colorbar": {
            "outlinewidth": 0,
            "ticks": ""
           }
          },
          "colorscale": {
           "diverging": [
            [
             0,
             "#8e0152"
            ],
            [
             0.1,
             "#c51b7d"
            ],
            [
             0.2,
             "#de77ae"
            ],
            [
             0.3,
             "#f1b6da"
            ],
            [
             0.4,
             "#fde0ef"
            ],
            [
             0.5,
             "#f7f7f7"
            ],
            [
             0.6,
             "#e6f5d0"
            ],
            [
             0.7,
             "#b8e186"
            ],
            [
             0.8,
             "#7fbc41"
            ],
            [
             0.9,
             "#4d9221"
            ],
            [
             1,
             "#276419"
            ]
           ],
           "sequential": [
            [
             0,
             "#0d0887"
            ],
            [
             0.1111111111111111,
             "#46039f"
            ],
            [
             0.2222222222222222,
             "#7201a8"
            ],
            [
             0.3333333333333333,
             "#9c179e"
            ],
            [
             0.4444444444444444,
             "#bd3786"
            ],
            [
             0.5555555555555556,
             "#d8576b"
            ],
            [
             0.6666666666666666,
             "#ed7953"
            ],
            [
             0.7777777777777778,
             "#fb9f3a"
            ],
            [
             0.8888888888888888,
             "#fdca26"
            ],
            [
             1,
             "#f0f921"
            ]
           ],
           "sequentialminus": [
            [
             0,
             "#0d0887"
            ],
            [
             0.1111111111111111,
             "#46039f"
            ],
            [
             0.2222222222222222,
             "#7201a8"
            ],
            [
             0.3333333333333333,
             "#9c179e"
            ],
            [
             0.4444444444444444,
             "#bd3786"
            ],
            [
             0.5555555555555556,
             "#d8576b"
            ],
            [
             0.6666666666666666,
             "#ed7953"
            ],
            [
             0.7777777777777778,
             "#fb9f3a"
            ],
            [
             0.8888888888888888,
             "#fdca26"
            ],
            [
             1,
             "#f0f921"
            ]
           ]
          },
          "colorway": [
           "#636efa",
           "#EF553B",
           "#00cc96",
           "#ab63fa",
           "#FFA15A",
           "#19d3f3",
           "#FF6692",
           "#B6E880",
           "#FF97FF",
           "#FECB52"
          ],
          "font": {
           "color": "#2a3f5f"
          },
          "geo": {
           "bgcolor": "white",
           "lakecolor": "white",
           "landcolor": "#E5ECF6",
           "showlakes": true,
           "showland": true,
           "subunitcolor": "white"
          },
          "hoverlabel": {
           "align": "left"
          },
          "hovermode": "closest",
          "mapbox": {
           "style": "light"
          },
          "paper_bgcolor": "white",
          "plot_bgcolor": "#E5ECF6",
          "polar": {
           "angularaxis": {
            "gridcolor": "white",
            "linecolor": "white",
            "ticks": ""
           },
           "bgcolor": "#E5ECF6",
           "radialaxis": {
            "gridcolor": "white",
            "linecolor": "white",
            "ticks": ""
           }
          },
          "scene": {
           "xaxis": {
            "backgroundcolor": "#E5ECF6",
            "gridcolor": "white",
            "gridwidth": 2,
            "linecolor": "white",
            "showbackground": true,
            "ticks": "",
            "zerolinecolor": "white"
           },
           "yaxis": {
            "backgroundcolor": "#E5ECF6",
            "gridcolor": "white",
            "gridwidth": 2,
            "linecolor": "white",
            "showbackground": true,
            "ticks": "",
            "zerolinecolor": "white"
           },
           "zaxis": {
            "backgroundcolor": "#E5ECF6",
            "gridcolor": "white",
            "gridwidth": 2,
            "linecolor": "white",
            "showbackground": true,
            "ticks": "",
            "zerolinecolor": "white"
           }
          },
          "shapedefaults": {
           "line": {
            "color": "#2a3f5f"
           }
          },
          "ternary": {
           "aaxis": {
            "gridcolor": "white",
            "linecolor": "white",
            "ticks": ""
           },
           "baxis": {
            "gridcolor": "white",
            "linecolor": "white",
            "ticks": ""
           },
           "bgcolor": "#E5ECF6",
           "caxis": {
            "gridcolor": "white",
            "linecolor": "white",
            "ticks": ""
           }
          },
          "title": {
           "x": 0.05
          },
          "xaxis": {
           "automargin": true,
           "gridcolor": "white",
           "linecolor": "white",
           "ticks": "",
           "title": {
            "standoff": 15
           },
           "zerolinecolor": "white",
           "zerolinewidth": 2
          },
          "yaxis": {
           "automargin": true,
           "gridcolor": "white",
           "linecolor": "white",
           "ticks": "",
           "title": {
            "standoff": 15
           },
           "zerolinecolor": "white",
           "zerolinewidth": 2
          }
         }
        },
        "title": {
         "text": "Loss per Epoch (L/E)"
        },
        "xaxis": {
         "title": {
          "text": "Epoch"
         }
        },
        "yaxis": {
         "title": {
          "text": "Loss"
         }
        }
       }
      }
     },
     "metadata": {},
     "output_type": "display_data"
    }
   ],
   "source": [
    "# Visualize train loss to track model performance\n",
    "train_losses = train_model.history['loss']\n",
    "epochs = len(train_losses)\n",
    "\n",
    "# Plot the results \n",
    "trace_train = go.Scatter(\n",
    "    x=list(range(1, epochs + 1)),\n",
    "    y=train_losses,\n",
    "    mode='lines+markers',  \n",
    "    name='Train Loss'\n",
    ")\n",
    "\n",
    "layout = go.Layout(\n",
    "    title='Loss per Epoch (L/E)',\n",
    "    xaxis=dict(title='Epoch'),\n",
    "    yaxis=dict(title='Loss'),\n",
    "    hovermode='closest'\n",
    ")\n",
    "\n",
    "fig = go.Figure(data=[trace_train], layout=layout)\n",
    "pyo.iplot(fig)\n"
   ]
  },
  {
   "cell_type": "code",
   "execution_count": 91,
   "metadata": {},
   "outputs": [
    {
     "name": "stdout",
     "output_type": "stream",
     "text": [
      "1/1 [==============================] - 0s 120ms/step - loss: 0.1490 - accuracy: 1.0000\n"
     ]
    },
    {
     "data": {
      "text/plain": [
       "(0.14901798963546753, 1.0)"
      ]
     },
     "execution_count": 91,
     "metadata": {},
     "output_type": "execute_result"
    }
   ],
   "source": [
    "# Initialize and run a test instance\n",
    "test_1 = TestTrainInitializer(_data=test_data, _classes=test_class)\n",
    "test_1_accuracy, test_1_loss = test_1.run()\n",
    "test_1_accuracy, test_1_loss"
   ]
  },
  {
   "cell_type": "code",
   "execution_count": 92,
   "metadata": {},
   "outputs": [
    {
     "name": "stdout",
     "output_type": "stream",
     "text": [
      "1/1 [==============================] - 0s 73ms/step\n"
     ]
    }
   ],
   "source": [
    "# Predict the test set\n",
    "Y_test_pred = custom_model.model.predict(test_1.X_data)\n",
    "predicted_labels = np.argmax(Y_test_pred, axis=1)\n",
    "\n",
    "# Calculate precision, recall, and F1 score\n",
    "performance_metrics = {\n",
    "    'precision': scores.precision_score(test_class, predicted_labels, average='weighted'),\n",
    "    'recall': scores.recall_score(test_class, predicted_labels, average='weighted'),\n",
    "    'f1_score': scores.f1_score(test_class, predicted_labels, average='weighted')\n",
    "}\n",
    "\n",
    "# Accessing the scores\n",
    "precision = performance_metrics['precision']\n",
    "recall = performance_metrics['recall']\n",
    "f1 = performance_metrics['f1_score']"
   ]
  },
  {
   "cell_type": "code",
   "execution_count": 93,
   "metadata": {},
   "outputs": [
    {
     "data": {
      "text/plain": [
       "(1.0, 1.0, 1.0)"
      ]
     },
     "execution_count": 93,
     "metadata": {},
     "output_type": "execute_result"
    }
   ],
   "source": [
    "precision, recall, f1 \n"
   ]
  }
 ],
 "metadata": {
  "kernelspec": {
   "display_name": "Python 3",
   "language": "python",
   "name": "python3"
  },
  "language_info": {
   "codemirror_mode": {
    "name": "ipython",
    "version": 3
   },
   "file_extension": ".py",
   "mimetype": "text/x-python",
   "name": "python",
   "nbconvert_exporter": "python",
   "pygments_lexer": "ipython3",
   "version": "3.11.2"
  }
 },
 "nbformat": 4,
 "nbformat_minor": 2
}
